{
 "cells": [
  {
   "cell_type": "code",
   "execution_count": 1,
   "metadata": {
    "collapsed": true
   },
   "outputs": [],
   "source": [
    "import numpy as np\n",
    "import pandas as pd\n",
    "from hyperopt import hp, fmin, tpe\n",
    "from functions import CreatDataGBM\n",
    "import xgboost as xgb"
   ]
  },
  {
   "cell_type": "code",
   "execution_count": 2,
   "metadata": {},
   "outputs": [
    {
     "name": "stderr",
     "output_type": "stream",
     "text": [
      "/home/will/anaconda2/lib/python2.7/site-packages/IPython/core/interactiveshell.py:2821: DtypeWarning: Columns (5) have mixed types. Specify dtype option on import or set low_memory=False.\n",
      "  if self.run_code(code, result):\n"
     ]
    }
   ],
   "source": [
    "X_train,Y_train,X_val,Y_val,Weight = CreatDataGBM(False)"
   ]
  },
  {
   "cell_type": "code",
   "execution_count": 3,
   "metadata": {
    "collapsed": true
   },
   "outputs": [],
   "source": [
    "def NWRMSLE_exp(preds, dtrain):\n",
    "    labels = dtrain.get_label()\n",
    "    preds = np.exp(preds)\n",
    "    temp1 = preds/(preds+1)\n",
    "    temp2 = np.log(preds+1) - labels\n",
    "    return temp2*temp1, temp1*temp1 + temp2*temp1*(1-temp1)"
   ]
  },
  {
   "cell_type": "code",
   "execution_count": 4,
   "metadata": {
    "collapsed": true
   },
   "outputs": [],
   "source": [
    "def NWRMSLE_relu(preds, dtrain):\n",
    "    labels = dtrain.get_label()\n",
    "    preds2 = np.maximum(preds,0)\n",
    "    inc = preds>0\n",
    "    temp1 = inc/(1+preds2)\n",
    "    temp2 = np.log(preds2+1) - labels\n",
    "    sq = temp1*temp1\n",
    "    return temp2*temp1, sq - temp2*sq"
   ]
  },
  {
   "cell_type": "code",
   "execution_count": 5,
   "metadata": {
    "collapsed": true
   },
   "outputs": [],
   "source": [
    "objective_fun = [(NWRMSLE_exp,np.exp),(NWRMSLE_relu,lambda x:np.maximum(x,0))]"
   ]
  },
  {
   "cell_type": "code",
   "execution_count": null,
   "metadata": {
    "collapsed": true
   },
   "outputs": [],
   "source": []
  },
  {
   "cell_type": "code",
   "execution_count": 9,
   "metadata": {
    "collapsed": true
   },
   "outputs": [],
   "source": [
    "param = {}\n",
    "param['eta'] = 0.05\n",
    "param['max_depth'] = 10\n",
    "param['min_child_weight'] = 1\n",
    "param['tree_method'] = 'hist'\n",
    "param['subsample'] = 0.133448450345\n",
    "param['colsample_bytree'] = 0.367127373623\n",
    "param['gamma'] = 5.18910389561"
   ]
  },
  {
   "cell_type": "code",
   "execution_count": 10,
   "metadata": {
    "collapsed": true
   },
   "outputs": [],
   "source": [
    "best_numberStep_list = [1000,\n",
    " 900,\n",
    " 500,\n",
    " 200,\n",
    " 200,\n",
    " 500,\n",
    " 1000,\n",
    " 1000,\n",
    " 1000,\n",
    " 300,\n",
    " 600,\n",
    " 1000,\n",
    " 200,\n",
    " 900,\n",
    " 700,\n",
    " 1000]\n",
    "Y_test_hat = np.zeros_like(Y_val)\n",
    "obj,link = objective_fun[1]"
   ]
  },
  {
   "cell_type": "code",
   "execution_count": 11,
   "metadata": {
    "collapsed": true,
    "scrolled": true
   },
   "outputs": [],
   "source": [
    "for i in range(16):\n",
    "    dtrain = xgb.DMatrix(\n",
    "        X_train, label=Y_train[:, i],\n",
    "        weight=np.tile(Weight,16)\n",
    "    )\n",
    "    dval = xgb.DMatrix(\n",
    "        X_val,weight=Weight)\n",
    "    model = xgb.train(param, dtrain, best_numberStep_list[i],obj=obj)\n",
    "    Y_test_hat[:,i] = link(model.predict(dval,output_margin=True))"
   ]
  },
  {
   "cell_type": "code",
   "execution_count": 14,
   "metadata": {
    "collapsed": true
   },
   "outputs": [],
   "source": [
    "pd.DataFrame({'id':Y_val.flatten(),'unit_sales':Y_test_hat.flatten()})\\\n",
    "  .to_csv('FinalGBM.csv',index=False)"
   ]
  },
  {
   "cell_type": "code",
   "execution_count": null,
   "metadata": {
    "collapsed": true
   },
   "outputs": [],
   "source": []
  },
  {
   "cell_type": "code",
   "execution_count": 12,
   "metadata": {
    "collapsed": true
   },
   "outputs": [],
   "source": [
    "old = pd.read_csv('SS_GBM.csv',dtype={'id': 'int32','unit_sales': 'float32'})"
   ]
  },
  {
   "cell_type": "code",
   "execution_count": 46,
   "metadata": {
    "collapsed": true
   },
   "outputs": [],
   "source": [
    "SI = pd.DataFrame({'id':Y_val.flatten(),'unit_sales':Y_test_hat.flatten()})  "
   ]
  },
  {
   "cell_type": "code",
   "execution_count": 20,
   "metadata": {
    "collapsed": true
   },
   "outputs": [],
   "source": [
    "SI1 = pd.merge(old,SI,'left','id')"
   ]
  },
  {
   "cell_type": "code",
   "execution_count": 24,
   "metadata": {
    "scrolled": true
   },
   "outputs": [],
   "source": [
    "SI1['unit_sales'] = np.where(np.isnan(SI1.unit_sales_y),SI1.unit_sales_x,SI1.unit_sales_y)"
   ]
  },
  {
   "cell_type": "code",
   "execution_count": 28,
   "metadata": {
    "scrolled": true
   },
   "outputs": [],
   "source": [
    "SI1.drop(['unit_sales_x','unit_sales_y'],1).to_csv('FinalGBM_all.csv',index=False)"
   ]
  },
  {
   "cell_type": "code",
   "execution_count": null,
   "metadata": {
    "collapsed": true
   },
   "outputs": [],
   "source": []
  },
  {
   "cell_type": "code",
   "execution_count": null,
   "metadata": {
    "collapsed": true
   },
   "outputs": [],
   "source": []
  }
 ],
 "metadata": {
  "kernelspec": {
   "display_name": "Python 2",
   "language": "python",
   "name": "python2"
  },
  "language_info": {
   "codemirror_mode": {
    "name": "ipython",
    "version": 2
   },
   "file_extension": ".py",
   "mimetype": "text/x-python",
   "name": "python",
   "nbconvert_exporter": "python",
   "pygments_lexer": "ipython2",
   "version": "2.7.13"
  }
 },
 "nbformat": 4,
 "nbformat_minor": 2
}
