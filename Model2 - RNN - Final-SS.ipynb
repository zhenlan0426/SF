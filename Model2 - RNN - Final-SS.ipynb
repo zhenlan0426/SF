{
 "cells": [
  {
   "cell_type": "code",
   "execution_count": 1,
   "metadata": {
    "collapsed": true
   },
   "outputs": [],
   "source": [
    "import tensorflow as tf\n",
    "import numpy as np\n",
    "from functions import createGraphRNN_dynamic,createGraphRNN2,RNN_generator_dynamic,RNN_generator_static\n",
    "import cPickle"
   ]
  },
  {
   "cell_type": "code",
   "execution_count": 2,
   "metadata": {
    "collapsed": true
   },
   "outputs": [],
   "source": [
    "discreteList = ['dayOfWeek','payDay','month','earthquake','type','locale','locale_name','transferred','onpromotion']"
   ]
  },
  {
   "cell_type": "code",
   "execution_count": 3,
   "metadata": {
    "collapsed": true
   },
   "outputs": [],
   "source": [
    "learningRate2 = 1e-5\n",
    "epoch = 1\n",
    "bucketSize = 10000\n",
    "repeat = 10\n",
    "SavePath = '/home/will/Desktop/Neural Network/Sales Forecasting/final/'\n",
    "SavePath_SS = '/home/will/Desktop/Neural Network/Sales Forecasting/SS/'"
   ]
  },
  {
   "cell_type": "code",
   "execution_count": 4,
   "metadata": {
    "collapsed": true
   },
   "outputs": [],
   "source": [
    "cardinalitys_X = [55, 4001, 34, 337, 2, 23, 17, 6, 18]\n",
    "cardinalitys_T = [7, 2, 13, 2, 7, 4, 25, 2, 3]\n",
    "dimentions_X = [2, 20, 1, 2, 1, 1, 1, 1, 1]\n",
    "dimentions_T = [1, 1, 1, 1, 1, 1, 1, 1, 1]"
   ]
  },
  {
   "cell_type": "code",
   "execution_count": 5,
   "metadata": {
    "collapsed": true
   },
   "outputs": [],
   "source": [
    "dX = sum(dimentions_X)\n",
    "dT = sum(dimentions_T)\n",
    "d = dX + dT + 2 # 2 for two cont variables"
   ]
  },
  {
   "cell_type": "code",
   "execution_count": 6,
   "metadata": {
    "collapsed": true,
    "scrolled": true
   },
   "outputs": [],
   "source": [
    "prefix = 'train_SS_final'\n",
    "y_np = np.loadtxt(prefix+'_Y',dtype=np.float32, delimiter=\",\") \n",
    "weight_np = np.loadtxt(prefix+'_Weight',dtype=np.float32, delimiter=\",\") \n",
    "Con_np = np.loadtxt(prefix+'_Con',dtype=np.float32, delimiter=\",\") \n",
    "X_np = np.loadtxt(prefix+'_X',dtype=np.int32,delimiter=\",\") \n",
    "Count_np = np.loadtxt(prefix+'_Count',dtype=np.int32,delimiter=\",\") \n",
    "Dis_np = [np.loadtxt(prefix+'_Dis'+str(j),dtype=np.int32,delimiter=\",\")  for j in range(len(discreteList))]"
   ]
  },
  {
   "cell_type": "code",
   "execution_count": 7,
   "metadata": {
    "collapsed": true
   },
   "outputs": [],
   "source": [
    "prefix = 'test_SS_final'\n",
    "y_np_val = np.loadtxt(prefix+'_Y',dtype=np.int32, delimiter=\",\") \n",
    "Con_np_val = np.loadtxt(prefix+'_Con',dtype=np.float32, delimiter=\",\") \n",
    "X_np_val = np.loadtxt(prefix+'_X',dtype=np.int32,delimiter=\",\") \n",
    "Dis_np_val = [np.loadtxt(prefix+'_Dis'+str(j),dtype=np.int32,delimiter=\",\")  for j in range(len(discreteList))]"
   ]
  },
  {
   "cell_type": "code",
   "execution_count": 8,
   "metadata": {
    "collapsed": true
   },
   "outputs": [],
   "source": [
    "fixedPara = {'cardinalitys_X':cardinalitys_X,'cardinalitys_T':cardinalitys_T,'dimentions_X':dimentions_X\\\n",
    "             ,'dimentions_T':dimentions_T,'dX':dX,'d':d}"
   ]
  },
  {
   "cell_type": "code",
   "execution_count": 9,
   "metadata": {
    "collapsed": true
   },
   "outputs": [],
   "source": [
    "model_para_list = [{'model_para':{'batch_size':25,'seq_len':64,'keep_prob':0.628044403851,'n_layers':2,'grad_clip':2.99125114123,'cell_type': 'NormLSTM','optimizer':'Adam','actFun':'relu'},'downsample':0.921508935737},\n",
    "{'model_para':{'batch_size':25,'seq_len':64,'keep_prob':0.813682171767,'n_layers':2,'grad_clip':4.71494036186,'cell_type': 'highway','optimizer':'Adam','actFun':'tanh'},'downsample':0.771180461646},\n",
    "{'model_para':{'batch_size':25,'seq_len':64,'keep_prob':0.702969880055,'n_layers':2,'grad_clip':2.01736824207,'cell_type': 'NormLSTM','optimizer':'Adam','actFun':'tanh'},'downsample':0.898455532427},\n",
    "{'model_para':{'batch_size':25,'seq_len':64,'keep_prob':0.428501799036,'n_layers':3,'grad_clip':4.2006247805,'cell_type': 'NormLSTM','optimizer':'Adam','actFun':'tanh'},'downsample':0.734974933319},\n",
    "{'model_para':{'batch_size':25,'seq_len':64,'keep_prob':0.459696006212,'n_layers':5,'grad_clip':5.76707667157,'cell_type': 'NormLSTM','optimizer':'Adam','actFun':'tanh'},'downsample':0.644960742075},\n",
    "{'model_para':{'batch_size':50,'seq_len':32,'keep_prob':0.427920301113,'n_layers':4,'grad_clip':6.37998154905,'cell_type': 'NormLSTM','optimizer':'Adam','actFun':'relu'},'downsample':0.467438862634},\n",
    "{'model_para':{'batch_size':25,'seq_len':64,'keep_prob':0.716917304571,'n_layers':2,'grad_clip':1.7676565249,'cell_type': 'NormLSTM','optimizer':'Adam','actFun':'tanh'},'downsample':0.940803705956},\n",
    "{'model_para':{'batch_size':25,'seq_len':64,'keep_prob':0.677708118391,'n_layers':3,'grad_clip':1.0014287617,'cell_type': 'NormLSTM','optimizer':'Adam','actFun':'tanh'},'downsample':0.810976906715},\n",
    "{'model_para':{'batch_size':25,'seq_len':64,'keep_prob':0.801469391508,'n_layers':5,'grad_clip':2.86814589654,'cell_type': 'highway','optimizer':'Adam','actFun':'tanh'},'downsample':0.719331346325},\n",
    "{'model_para':{'batch_size':25,'seq_len':64,'keep_prob':0.819993479712,'n_layers':2,'grad_clip':4.74376042578,'cell_type': 'highway','optimizer':'Adam','actFun':'tanh'},'downsample':0.782327028395},\n",
    "{'model_para':{'batch_size':25,'seq_len':64,'keep_prob':0.415802367601,'n_layers':4,'grad_clip':6.38154110535,'cell_type': 'NormLSTM','optimizer':'Adam','actFun':'tanh'},'downsample':0.684181659341},\n",
    "{'model_para':{'batch_size':100,'seq_len':16,'keep_prob':0.670033419799,'n_layers':2,'grad_clip':1.40163749265,'cell_type': 'highway','optimizer':'Adam','actFun':'tanh'},'downsample':0.82368610599},\n",
    "{'model_para':{'batch_size':25,'seq_len':64,'keep_prob':0.524084618388,'n_layers':3,'grad_clip':7.3201240237,'cell_type': 'NormLSTM','optimizer':'Adam','actFun':'relu'},'downsample':0.520909052689},\n",
    "{'model_para':{'batch_size':25,'seq_len':64,'keep_prob':0.745017883177,'n_layers':2,'grad_clip':7.89519173494,'cell_type': 'highway','optimizer':'Adam','actFun':'tanh'},'downsample':0.902410343017},\n",
    "{'model_para':{'batch_size':25,'seq_len':64,'keep_prob':0.400749504666,'n_layers':4,'grad_clip':4.14237357172,'cell_type': 'NormLSTM','optimizer':'Adam','actFun':'relu'},'downsample':0.913470970128},\n",
    "{'model_para':{'batch_size':50,'seq_len':32,'keep_prob':0.897205518497,'n_layers':3,'grad_clip':4.95813489272,'cell_type': 'NormLSTM','optimizer':'Adam','actFun':'relu'},'downsample':0.583659186288},\n",
    "{'model_para':{'batch_size':25,'seq_len':64,'keep_prob':0.64949104808,'n_layers':2,'grad_clip':2.23405885747,'cell_type': 'NormLSTM','optimizer':'Adam','actFun':'tanh'},'downsample':0.670332198251},\n",
    "{'model_para':{'batch_size':50,'seq_len':32,'keep_prob':0.732932282822,'n_layers':2,'grad_clip':1.32638769648,'cell_type': 'highway','optimizer':'Adam','actFun':'tanh'},'downsample':0.694517667059},\n",
    "{'model_para':{'batch_size':25,'seq_len':64,'keep_prob':0.464332365322,'n_layers':2,'grad_clip':4.33557727242,'cell_type': 'NormLSTM','optimizer':'Adam','actFun':'tanh'},'downsample':0.941907479812},\n",
    "{'model_para':{'batch_size':25,'seq_len':64,'keep_prob':0.877049685508,'n_layers':3,'grad_clip':6.13619058959,'cell_type': 'NormLSTM','optimizer':'Adam','actFun':'tanh'},'downsample':0.884550903377},\n",
    "]"
   ]
  },
  {
   "cell_type": "code",
   "execution_count": 10,
   "metadata": {
    "collapsed": true
   },
   "outputs": [],
   "source": [
    "SS_list = \\\n",
    "[[15, 100, 16, 2.49448965198, 'Adam', 0.86006434527],\n",
    "[15, 25, 64, 1.97950469671, 'Adam', 0.834093191043],\n",
    "[15, 50, 32, 2.55155432241, 'Adam', 0.801902734042],\n",
    "[0, 50, 32, 3.13742526145, 'Adam', 0.83063142356],\n",
    "[0, 50, 32, 1.89329100079, 'Adam', 0.841654681717],\n",
    "[12, 100, 16, 2.6301984665, 'Adam', 0.904494564533],\n",
    "[12, 100, 16, 4.02712167527, 'Adam', 0.91399842192],\n",
    "[4, 100, 16, 3.73159076992, 'Adam', 0.869912404413],\n",
    "[5, 25, 64, 2.01713124321, 'Adam', 0.832894915843],\n",
    "[7, 25, 64, 3.82962064686, 'Adam', 0.876162909286],\n",
    "[19, 100, 16, 4.97344805756, 'Adam', 0.920212874321],\n",
    "[3, 25, 64, 2.11627148084, 'Adam', 0.841445601489]]"
   ]
  },
  {
   "cell_type": "code",
   "execution_count": 11,
   "metadata": {},
   "outputs": [],
   "source": [
    "def RNN_Train_Forecast_SS(paras):   \n",
    "    # paras[0] is one of the modelName\n",
    "    model_para = model_para_list[paras[0]]['model_para'].copy()\n",
    "    model_name = 'grad_clip:{}-cell_type:{}-optimizer:{}-actFun:{}-seq_len:{}-n_layers:{}-keep_prob:{}-batch_size:{}-downsample:{}'\\\n",
    "                 .format(model_para['grad_clip'],model_para['cell_type'],model_para['optimizer'],model_para['actFun'],model_para['seq_len'],\\\n",
    "                         model_para['n_layers'],model_para['keep_prob'],model_para['batch_size'],model_para_list[paras[0]]['downsample']) \n",
    "    model_para['batch_size'] = paras[1]\n",
    "    model_para['seq_len'] = paras[2]\n",
    "    model_para['grad_clip'] = paras[3]\n",
    "    model_para['optimizer'] = paras[4] \n",
    "    model_para.update(fixedPara)\n",
    "    downsample = paras[5]\n",
    "    startDate = 0 # set to zero as there is only 64 days\n",
    "    inputs,train_op,cost,saver,yhat,state = createGraphRNN2(**model_para)\n",
    "        \n",
    "    sess = tf.InteractiveSession()\n",
    "    sess.run(tf.global_variables_initializer())\n",
    "    saver.restore(sess,SavePath+model_name)\n",
    "    \n",
    "    # Training\n",
    "    init_state = tuple([tf.contrib.rnn.LSTMStateTuple(np.zeros((model_para['batch_size'],model_para['d']),dtype=np.float32),\\\n",
    "                                                      np.zeros((model_para['batch_size'],model_para['d']),dtype=np.float32))\\\n",
    "                                                    for i in range(model_para['n_layers'])]) \\\n",
    "                 if model_para['cell_type'] == 'NormLSTM' else \\\n",
    "                 tuple([np.zeros((model_para['batch_size'],model_para['d']),dtype=np.float32) \\\n",
    "                        for i in range(model_para['n_layers'])]) \n",
    "\n",
    "    for i in range(epoch):\n",
    "        for X_nps in RNN_generator_static(y_np, weight_np,Con_np,Dis_np,X_np,\\\n",
    "                                paras[1],paras[2],startDate=startDate,downSample=downsample):\n",
    "            _,init_state = sess.run([train_op,state],\\\n",
    "                                 dict(zip(inputs,X_nps+[learningRate2,init_state])))\n",
    "            \n",
    "    model_name_new = \"Model:{}-batch_size:{}-seq_len:{}-grad_clip:{}-optimizer:{}-downsample:{}\"\\\n",
    "                      .format(paras[0],model_para['batch_size'],\\\n",
    "                      model_para['seq_len'],model_para['grad_clip'],model_para['optimizer'],downsample)\n",
    "    saver.save(sess,SavePath_SS+model_name_new)\n",
    "    \n",
    "    # Testing        \n",
    "    model_para2 = model_para.copy()\n",
    "    model_para2['batch_size'] = None\n",
    "    model_para2['seq_len'] = 16\n",
    "\n",
    "    inputs,train_op,cost,saver,yhat,state = createGraphRNN2(**model_para2)   \n",
    "    sess = tf.InteractiveSession()\n",
    "    sess.run(tf.global_variables_initializer())\n",
    "    saver.restore(sess,SavePath_SS+model_name_new)\n",
    "    \n",
    "    ## get init_state\n",
    "    init_tot_list = []\n",
    "    for X_nps in RNN_generator_static(y_np, weight_np,Con_np,Dis_np,X_np,\\\n",
    "                                      100,16,startDate=startDate,downSample=1,iterAll=True,permutate=False):\n",
    "        if X_nps[-1]:\n",
    "            init_tot_list.append(init_state)\n",
    "        init_state = sess.run(state,dict(zip(inputs,X_nps+[learningRate2,init_state])))\n",
    "    init_tot_list.append(init_state)\n",
    "    init_tot_list = init_tot_list[1:]\n",
    "      \n",
    "    # prediction    \n",
    "    model_para2['StopGrad'] = False # does not matter for prediction\n",
    "    inputs,train_op,cost,saver,yhat,state = createGraphRNN_dynamic(**model_para2)\n",
    "    sess = tf.InteractiveSession()\n",
    "    sess.run(tf.global_variables_initializer())\n",
    "    saver.restore(sess,SavePath_SS+model_name_new)\n",
    "\n",
    "    Yhat = []      \n",
    "    for i,X_nps in enumerate(RNN_generator_dynamic(y_np_val, np.ones(y_np_val.shape[0]),Con_np_val,Dis_np_val,X_np_val,\\\n",
    "                                                 100,16,startDate=0,downSample=1,iterAll=True,permutate=False)): \n",
    "        X_nps[-2] = False\n",
    "        Yhat.append(np.mean(np.stack([sess.run(yhat,dict(zip(inputs,X_nps+[learningRate2,init_tot_list[i]])))\\\n",
    "                                       for _ in range(repeat)],2),2))\n",
    "    return np.concatenate(Yhat)        "
   ]
  },
  {
   "cell_type": "code",
   "execution_count": 13,
   "metadata": {
    "scrolled": false
   },
   "outputs": [
    {
     "name": "stdout",
     "output_type": "stream",
     "text": [
      "INFO:tensorflow:Restoring parameters from /home/will/Desktop/Neural Network/Sales Forecasting/final/grad_clip:4.95813489272-cell_type:NormLSTM-optimizer:Adam-actFun:relu-seq_len:32-n_layers:3-keep_prob:0.897205518497-batch_size:50-downsample:0.583659186288\n",
      "INFO:tensorflow:Restoring parameters from /home/will/Desktop/Neural Network/Sales Forecasting/SS/Model:15-batch_size:100-seq_len:16-grad_clip:2.49448965198-optimizer:Adam-downsample:0.86006434527\n",
      "INFO:tensorflow:Restoring parameters from /home/will/Desktop/Neural Network/Sales Forecasting/SS/Model:15-batch_size:100-seq_len:16-grad_clip:2.49448965198-optimizer:Adam-downsample:0.86006434527\n",
      "INFO:tensorflow:Restoring parameters from /home/will/Desktop/Neural Network/Sales Forecasting/final/grad_clip:4.95813489272-cell_type:NormLSTM-optimizer:Adam-actFun:relu-seq_len:32-n_layers:3-keep_prob:0.897205518497-batch_size:50-downsample:0.583659186288\n",
      "INFO:tensorflow:Restoring parameters from /home/will/Desktop/Neural Network/Sales Forecasting/SS/Model:15-batch_size:25-seq_len:64-grad_clip:1.97950469671-optimizer:Adam-downsample:0.834093191043\n",
      "INFO:tensorflow:Restoring parameters from /home/will/Desktop/Neural Network/Sales Forecasting/SS/Model:15-batch_size:25-seq_len:64-grad_clip:1.97950469671-optimizer:Adam-downsample:0.834093191043\n",
      "INFO:tensorflow:Restoring parameters from /home/will/Desktop/Neural Network/Sales Forecasting/final/grad_clip:4.95813489272-cell_type:NormLSTM-optimizer:Adam-actFun:relu-seq_len:32-n_layers:3-keep_prob:0.897205518497-batch_size:50-downsample:0.583659186288\n",
      "INFO:tensorflow:Restoring parameters from /home/will/Desktop/Neural Network/Sales Forecasting/SS/Model:15-batch_size:50-seq_len:32-grad_clip:2.55155432241-optimizer:Adam-downsample:0.801902734042\n",
      "INFO:tensorflow:Restoring parameters from /home/will/Desktop/Neural Network/Sales Forecasting/SS/Model:15-batch_size:50-seq_len:32-grad_clip:2.55155432241-optimizer:Adam-downsample:0.801902734042\n",
      "INFO:tensorflow:Restoring parameters from /home/will/Desktop/Neural Network/Sales Forecasting/final/grad_clip:2.99125114123-cell_type:NormLSTM-optimizer:Adam-actFun:relu-seq_len:64-n_layers:2-keep_prob:0.628044403851-batch_size:25-downsample:0.921508935737\n",
      "INFO:tensorflow:Restoring parameters from /home/will/Desktop/Neural Network/Sales Forecasting/SS/Model:0-batch_size:50-seq_len:32-grad_clip:3.13742526145-optimizer:Adam-downsample:0.83063142356\n",
      "INFO:tensorflow:Restoring parameters from /home/will/Desktop/Neural Network/Sales Forecasting/SS/Model:0-batch_size:50-seq_len:32-grad_clip:3.13742526145-optimizer:Adam-downsample:0.83063142356\n",
      "INFO:tensorflow:Restoring parameters from /home/will/Desktop/Neural Network/Sales Forecasting/final/grad_clip:2.99125114123-cell_type:NormLSTM-optimizer:Adam-actFun:relu-seq_len:64-n_layers:2-keep_prob:0.628044403851-batch_size:25-downsample:0.921508935737\n",
      "INFO:tensorflow:Restoring parameters from /home/will/Desktop/Neural Network/Sales Forecasting/SS/Model:0-batch_size:50-seq_len:32-grad_clip:1.89329100079-optimizer:Adam-downsample:0.841654681717\n",
      "INFO:tensorflow:Restoring parameters from /home/will/Desktop/Neural Network/Sales Forecasting/SS/Model:0-batch_size:50-seq_len:32-grad_clip:1.89329100079-optimizer:Adam-downsample:0.841654681717\n",
      "INFO:tensorflow:Restoring parameters from /home/will/Desktop/Neural Network/Sales Forecasting/final/grad_clip:7.3201240237-cell_type:NormLSTM-optimizer:Adam-actFun:relu-seq_len:64-n_layers:3-keep_prob:0.524084618388-batch_size:25-downsample:0.520909052689\n",
      "INFO:tensorflow:Restoring parameters from /home/will/Desktop/Neural Network/Sales Forecasting/SS/Model:12-batch_size:100-seq_len:16-grad_clip:2.6301984665-optimizer:Adam-downsample:0.904494564533\n",
      "INFO:tensorflow:Restoring parameters from /home/will/Desktop/Neural Network/Sales Forecasting/SS/Model:12-batch_size:100-seq_len:16-grad_clip:2.6301984665-optimizer:Adam-downsample:0.904494564533\n",
      "INFO:tensorflow:Restoring parameters from /home/will/Desktop/Neural Network/Sales Forecasting/final/grad_clip:7.3201240237-cell_type:NormLSTM-optimizer:Adam-actFun:relu-seq_len:64-n_layers:3-keep_prob:0.524084618388-batch_size:25-downsample:0.520909052689\n",
      "INFO:tensorflow:Restoring parameters from /home/will/Desktop/Neural Network/Sales Forecasting/SS/Model:12-batch_size:100-seq_len:16-grad_clip:4.02712167527-optimizer:Adam-downsample:0.91399842192\n",
      "INFO:tensorflow:Restoring parameters from /home/will/Desktop/Neural Network/Sales Forecasting/SS/Model:12-batch_size:100-seq_len:16-grad_clip:4.02712167527-optimizer:Adam-downsample:0.91399842192\n",
      "INFO:tensorflow:Restoring parameters from /home/will/Desktop/Neural Network/Sales Forecasting/final/grad_clip:5.76707667157-cell_type:NormLSTM-optimizer:Adam-actFun:tanh-seq_len:64-n_layers:5-keep_prob:0.459696006212-batch_size:25-downsample:0.644960742075\n",
      "INFO:tensorflow:Restoring parameters from /home/will/Desktop/Neural Network/Sales Forecasting/SS/Model:4-batch_size:100-seq_len:16-grad_clip:3.73159076992-optimizer:Adam-downsample:0.869912404413\n",
      "INFO:tensorflow:Restoring parameters from /home/will/Desktop/Neural Network/Sales Forecasting/SS/Model:4-batch_size:100-seq_len:16-grad_clip:3.73159076992-optimizer:Adam-downsample:0.869912404413\n",
      "INFO:tensorflow:Restoring parameters from /home/will/Desktop/Neural Network/Sales Forecasting/final/grad_clip:6.37998154905-cell_type:NormLSTM-optimizer:Adam-actFun:relu-seq_len:32-n_layers:4-keep_prob:0.427920301113-batch_size:50-downsample:0.467438862634\n",
      "INFO:tensorflow:Restoring parameters from /home/will/Desktop/Neural Network/Sales Forecasting/SS/Model:5-batch_size:25-seq_len:64-grad_clip:2.01713124321-optimizer:Adam-downsample:0.832894915843\n",
      "INFO:tensorflow:Restoring parameters from /home/will/Desktop/Neural Network/Sales Forecasting/SS/Model:5-batch_size:25-seq_len:64-grad_clip:2.01713124321-optimizer:Adam-downsample:0.832894915843\n",
      "INFO:tensorflow:Restoring parameters from /home/will/Desktop/Neural Network/Sales Forecasting/final/grad_clip:1.0014287617-cell_type:NormLSTM-optimizer:Adam-actFun:tanh-seq_len:64-n_layers:3-keep_prob:0.677708118391-batch_size:25-downsample:0.810976906715\n",
      "INFO:tensorflow:Restoring parameters from /home/will/Desktop/Neural Network/Sales Forecasting/SS/Model:7-batch_size:25-seq_len:64-grad_clip:3.82962064686-optimizer:Adam-downsample:0.876162909286\n",
      "INFO:tensorflow:Restoring parameters from /home/will/Desktop/Neural Network/Sales Forecasting/SS/Model:7-batch_size:25-seq_len:64-grad_clip:3.82962064686-optimizer:Adam-downsample:0.876162909286\n",
      "INFO:tensorflow:Restoring parameters from /home/will/Desktop/Neural Network/Sales Forecasting/final/grad_clip:6.13619058959-cell_type:NormLSTM-optimizer:Adam-actFun:tanh-seq_len:64-n_layers:3-keep_prob:0.877049685508-batch_size:25-downsample:0.884550903377\n",
      "INFO:tensorflow:Restoring parameters from /home/will/Desktop/Neural Network/Sales Forecasting/SS/Model:19-batch_size:100-seq_len:16-grad_clip:4.97344805756-optimizer:Adam-downsample:0.920212874321\n",
      "INFO:tensorflow:Restoring parameters from /home/will/Desktop/Neural Network/Sales Forecasting/SS/Model:19-batch_size:100-seq_len:16-grad_clip:4.97344805756-optimizer:Adam-downsample:0.920212874321\n",
      "INFO:tensorflow:Restoring parameters from /home/will/Desktop/Neural Network/Sales Forecasting/final/grad_clip:4.2006247805-cell_type:NormLSTM-optimizer:Adam-actFun:tanh-seq_len:64-n_layers:3-keep_prob:0.428501799036-batch_size:25-downsample:0.734974933319\n",
      "INFO:tensorflow:Restoring parameters from /home/will/Desktop/Neural Network/Sales Forecasting/SS/Model:3-batch_size:25-seq_len:64-grad_clip:2.11627148084-optimizer:Adam-downsample:0.841445601489\n",
      "INFO:tensorflow:Restoring parameters from /home/will/Desktop/Neural Network/Sales Forecasting/SS/Model:3-batch_size:25-seq_len:64-grad_clip:2.11627148084-optimizer:Adam-downsample:0.841445601489\n"
     ]
    }
   ],
   "source": [
    "y_SI = np.zeros((y_np_val.shape[0],16))\n",
    "for paras in SS_list:\n",
    "    y_SI = y_SI + RNN_Train_Forecast_SS(paras)\n",
    "y_SI = y_SI/len(SS_list)"
   ]
  },
  {
   "cell_type": "code",
   "execution_count": null,
   "metadata": {
    "collapsed": true
   },
   "outputs": [],
   "source": []
  },
  {
   "cell_type": "code",
   "execution_count": 14,
   "metadata": {
    "collapsed": true,
    "scrolled": false
   },
   "outputs": [],
   "source": [
    "import pandas as pd"
   ]
  },
  {
   "cell_type": "code",
   "execution_count": 15,
   "metadata": {
    "collapsed": true
   },
   "outputs": [],
   "source": [
    "newItem = pd.read_csv('ANN_NewItem1.csv',dtype={'id': 'int32','unit_sales': 'float32'})"
   ]
  },
  {
   "cell_type": "code",
   "execution_count": 16,
   "metadata": {
    "collapsed": true
   },
   "outputs": [],
   "source": [
    "SI = pd.DataFrame({'id':y_np_val[:,1:].flatten(),'unit_sales':y_SI.flatten()})  "
   ]
  },
  {
   "cell_type": "code",
   "execution_count": 17,
   "metadata": {
    "collapsed": true
   },
   "outputs": [],
   "source": [
    "zeroSubmission = pd.read_csv('sample_submission.csv',dtype={'id': 'int32','unit_sales': 'float32'})"
   ]
  },
  {
   "cell_type": "code",
   "execution_count": 18,
   "metadata": {
    "collapsed": true
   },
   "outputs": [],
   "source": [
    "a = pd.merge(pd.merge(zeroSubmission,SI,'left','id'),newItem,'left','id').fillna(0)\n",
    "a['unit_sales'] = a.iloc[:,1:4].sum(1)\n",
    "a = a.loc[:,['id','unit_sales']]"
   ]
  },
  {
   "cell_type": "code",
   "execution_count": 19,
   "metadata": {
    "collapsed": true
   },
   "outputs": [],
   "source": [
    "a.to_csv(SavePath+'FinalEnsembleSS.csv',index=False)"
   ]
  },
  {
   "cell_type": "code",
   "execution_count": 67,
   "metadata": {
    "collapsed": true
   },
   "outputs": [],
   "source": []
  },
  {
   "cell_type": "code",
   "execution_count": null,
   "metadata": {
    "collapsed": true
   },
   "outputs": [],
   "source": []
  }
 ],
 "metadata": {
  "kernelspec": {
   "display_name": "Python 2",
   "language": "python",
   "name": "python2"
  },
  "language_info": {
   "codemirror_mode": {
    "name": "ipython",
    "version": 2
   },
   "file_extension": ".py",
   "mimetype": "text/x-python",
   "name": "python",
   "nbconvert_exporter": "python",
   "pygments_lexer": "ipython2",
   "version": "2.7.13"
  }
 },
 "nbformat": 4,
 "nbformat_minor": 2
}
