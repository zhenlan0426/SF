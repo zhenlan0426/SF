{
 "cells": [
  {
   "cell_type": "code",
   "execution_count": 1,
   "metadata": {
    "collapsed": true
   },
   "outputs": [],
   "source": [
    "import tensorflow as tf\n",
    "import numpy as np\n",
    "from functions import RNN_Train_Forecast,createGraphRNN2,RNN_generator,init_state_update,\\\n",
    "RNN_forecast_Repeat,init_state_update_LSTM,RNN_forecast_Repeat_LSTM\n",
    "import cPickle"
   ]
  },
  {
   "cell_type": "code",
   "execution_count": 2,
   "metadata": {
    "collapsed": true
   },
   "outputs": [],
   "source": [
    "discreteList = ['dayOfWeek','payDay','month','earthquake','type','locale','locale_name','transferred','onpromotion']"
   ]
  },
  {
   "cell_type": "code",
   "execution_count": 3,
   "metadata": {
    "collapsed": true
   },
   "outputs": [],
   "source": [
    "learningRate = 1e-4\n",
    "epoch = 25\n",
    "repeat = 10\n",
    "SavePath = '/home/will/Desktop/Neural Network/Sales Forecasting/final'"
   ]
  },
  {
   "cell_type": "code",
   "execution_count": 4,
   "metadata": {
    "collapsed": true
   },
   "outputs": [],
   "source": [
    "cardinalitys_X = [55, 4001, 34, 337, 2, 23, 17, 6, 18]\n",
    "cardinalitys_T = [7, 2, 13, 2, 7, 4, 25, 2, 3]\n",
    "dimentions_X = [2, 20, 1, 2, 1, 1, 1, 1, 1]\n",
    "dimentions_T = [1, 1, 1, 1, 1, 1, 1, 1, 1]"
   ]
  },
  {
   "cell_type": "code",
   "execution_count": 5,
   "metadata": {
    "collapsed": true
   },
   "outputs": [],
   "source": [
    "dX = sum(dimentions_X)\n",
    "dT = sum(dimentions_T)\n",
    "d = dX + dT + 2 # 2 for two cont variables"
   ]
  },
  {
   "cell_type": "code",
   "execution_count": 6,
   "metadata": {},
   "outputs": [],
   "source": [
    "prefix = 'train_final'\n",
    "y_np = np.loadtxt(prefix+'_Y',dtype=np.float32, delimiter=\",\") \n",
    "weight_np = np.loadtxt(prefix+'_Weight',dtype=np.float32, delimiter=\",\") \n",
    "Con_np = np.loadtxt(prefix+'_Con',dtype=np.float32, delimiter=\",\") \n",
    "X_np = np.loadtxt(prefix+'_X',dtype=np.int32,delimiter=\",\") \n",
    "Count_np = np.loadtxt(prefix+'_Count',dtype=np.int32,delimiter=\",\") \n",
    "Dis_np = [np.loadtxt(prefix+'_Dis'+str(j),dtype=np.int32,delimiter=\",\")  for j in range(len(discreteList))]"
   ]
  },
  {
   "cell_type": "code",
   "execution_count": 7,
   "metadata": {
    "collapsed": true
   },
   "outputs": [],
   "source": [
    "prefix = 'test_SI_final'\n",
    "y_np_val = np.loadtxt(prefix+'_Y',dtype=np.int32, delimiter=\",\") \n",
    "Con_np_val = np.loadtxt(prefix+'_Con',dtype=np.float32, delimiter=\",\") \n",
    "X_np_val = np.loadtxt(prefix+'_X',dtype=np.int32,delimiter=\",\") \n",
    "Dis_np_val = [np.loadtxt(prefix+'_Dis'+str(j),dtype=np.int32,delimiter=\",\")  for j in range(len(discreteList))]"
   ]
  },
  {
   "cell_type": "code",
   "execution_count": 8,
   "metadata": {
    "collapsed": true
   },
   "outputs": [],
   "source": [
    "index = np.loadtxt('Index_final',dtype=np.int32,delimiter=\",\") "
   ]
  },
  {
   "cell_type": "code",
   "execution_count": 9,
   "metadata": {
    "collapsed": true
   },
   "outputs": [],
   "source": [
    "fixedPara = {'cardinalitys_X':cardinalitys_X,'cardinalitys_T':cardinalitys_T,'dimentions_X':dimentions_X\\\n",
    "             ,'dimentions_T':dimentions_T,'dX':dX,'d':d}"
   ]
  },
  {
   "cell_type": "code",
   "execution_count": 10,
   "metadata": {
    "collapsed": true
   },
   "outputs": [],
   "source": [
    "model_para_list = [{'model_para':{'batch_size':25,'seq_len':64,'keep_prob':0.628044403851,'n_layers':2,'grad_clip':2.99125114123,'cell_type': 'NormLSTM','optimizer':'Adam','actFun':'relu'},'downsample':0.921508935737},\n",
    "{'model_para':{'batch_size':25,'seq_len':64,'keep_prob':0.813682171767,'n_layers':2,'grad_clip':4.71494036186,'cell_type': 'highway','optimizer':'Adam','actFun':'tanh'},'downsample':0.771180461646},\n",
    "{'model_para':{'batch_size':25,'seq_len':64,'keep_prob':0.702969880055,'n_layers':2,'grad_clip':2.01736824207,'cell_type': 'NormLSTM','optimizer':'Adam','actFun':'tanh'},'downsample':0.898455532427},\n",
    "{'model_para':{'batch_size':25,'seq_len':64,'keep_prob':0.428501799036,'n_layers':3,'grad_clip':4.2006247805,'cell_type': 'NormLSTM','optimizer':'Adam','actFun':'tanh'},'downsample':0.734974933319},\n",
    "{'model_para':{'batch_size':25,'seq_len':64,'keep_prob':0.459696006212,'n_layers':5,'grad_clip':5.76707667157,'cell_type': 'NormLSTM','optimizer':'Adam','actFun':'tanh'},'downsample':0.644960742075},\n",
    "{'model_para':{'batch_size':50,'seq_len':32,'keep_prob':0.427920301113,'n_layers':4,'grad_clip':6.37998154905,'cell_type': 'NormLSTM','optimizer':'Adam','actFun':'relu'},'downsample':0.467438862634},\n",
    "{'model_para':{'batch_size':25,'seq_len':64,'keep_prob':0.716917304571,'n_layers':2,'grad_clip':1.7676565249,'cell_type': 'NormLSTM','optimizer':'Adam','actFun':'tanh'},'downsample':0.940803705956},\n",
    "{'model_para':{'batch_size':25,'seq_len':64,'keep_prob':0.677708118391,'n_layers':3,'grad_clip':1.0014287617,'cell_type': 'NormLSTM','optimizer':'Adam','actFun':'tanh'},'downsample':0.810976906715},\n",
    "{'model_para':{'batch_size':25,'seq_len':64,'keep_prob':0.801469391508,'n_layers':5,'grad_clip':2.86814589654,'cell_type': 'highway','optimizer':'Adam','actFun':'tanh'},'downsample':0.719331346325},\n",
    "{'model_para':{'batch_size':25,'seq_len':64,'keep_prob':0.819993479712,'n_layers':2,'grad_clip':4.74376042578,'cell_type': 'highway','optimizer':'Adam','actFun':'tanh'},'downsample':0.782327028395},\n",
    "{'model_para':{'batch_size':25,'seq_len':64,'keep_prob':0.415802367601,'n_layers':4,'grad_clip':6.38154110535,'cell_type': 'NormLSTM','optimizer':'Adam','actFun':'tanh'},'downsample':0.684181659341},\n",
    "{'model_para':{'batch_size':100,'seq_len':16,'keep_prob':0.670033419799,'n_layers':2,'grad_clip':1.40163749265,'cell_type': 'highway','optimizer':'Adam','actFun':'tanh'},'downsample':0.82368610599},\n",
    "{'model_para':{'batch_size':25,'seq_len':64,'keep_prob':0.524084618388,'n_layers':3,'grad_clip':7.3201240237,'cell_type': 'NormLSTM','optimizer':'Adam','actFun':'relu'},'downsample':0.520909052689},\n",
    "{'model_para':{'batch_size':25,'seq_len':64,'keep_prob':0.745017883177,'n_layers':2,'grad_clip':7.89519173494,'cell_type': 'highway','optimizer':'Adam','actFun':'tanh'},'downsample':0.902410343017},\n",
    "{'model_para':{'batch_size':25,'seq_len':64,'keep_prob':0.400749504666,'n_layers':4,'grad_clip':4.14237357172,'cell_type': 'NormLSTM','optimizer':'Adam','actFun':'relu'},'downsample':0.913470970128},\n",
    "{'model_para':{'batch_size':50,'seq_len':32,'keep_prob':0.897205518497,'n_layers':3,'grad_clip':4.95813489272,'cell_type': 'NormLSTM','optimizer':'Adam','actFun':'relu'},'downsample':0.583659186288},\n",
    "{'model_para':{'batch_size':25,'seq_len':64,'keep_prob':0.64949104808,'n_layers':2,'grad_clip':2.23405885747,'cell_type': 'NormLSTM','optimizer':'Adam','actFun':'tanh'},'downsample':0.670332198251},\n",
    "{'model_para':{'batch_size':50,'seq_len':32,'keep_prob':0.732932282822,'n_layers':2,'grad_clip':1.32638769648,'cell_type': 'highway','optimizer':'Adam','actFun':'tanh'},'downsample':0.694517667059},\n",
    "{'model_para':{'batch_size':25,'seq_len':64,'keep_prob':0.464332365322,'n_layers':2,'grad_clip':4.33557727242,'cell_type': 'NormLSTM','optimizer':'Adam','actFun':'tanh'},'downsample':0.941907479812},\n",
    "{'model_para':{'batch_size':25,'seq_len':64,'keep_prob':0.877049685508,'n_layers':3,'grad_clip':6.13619058959,'cell_type': 'NormLSTM','optimizer':'Adam','actFun':'tanh'},'downsample':0.884550903377},\n",
    "]"
   ]
  },
  {
   "cell_type": "code",
   "execution_count": 13,
   "metadata": {},
   "outputs": [
    {
     "name": "stdout",
     "output_type": "stream",
     "text": [
      "INFO:tensorflow:Restoring parameters from /home/will/Desktop/Neural Network/Sales Forecasting/final/grad_clip:2.99125114123-cell_type:NormLSTM-optimizer:Adam-actFun:relu-seq_len:64-n_layers:2-keep_prob:0.628044403851-batch_size:25-downsample:0.921508935737\n",
      "INFO:tensorflow:Restoring parameters from /home/will/Desktop/Neural Network/Sales Forecasting/final/grad_clip:4.71494036186-cell_type:highway-optimizer:Adam-actFun:tanh-seq_len:64-n_layers:2-keep_prob:0.813682171767-batch_size:25-downsample:0.771180461646\n",
      "INFO:tensorflow:Restoring parameters from /home/will/Desktop/Neural Network/Sales Forecasting/final/grad_clip:2.01736824207-cell_type:NormLSTM-optimizer:Adam-actFun:tanh-seq_len:64-n_layers:2-keep_prob:0.702969880055-batch_size:25-downsample:0.898455532427\n",
      "INFO:tensorflow:Restoring parameters from /home/will/Desktop/Neural Network/Sales Forecasting/final/grad_clip:4.2006247805-cell_type:NormLSTM-optimizer:Adam-actFun:tanh-seq_len:64-n_layers:3-keep_prob:0.428501799036-batch_size:25-downsample:0.734974933319\n",
      "INFO:tensorflow:Restoring parameters from /home/will/Desktop/Neural Network/Sales Forecasting/final/grad_clip:5.76707667157-cell_type:NormLSTM-optimizer:Adam-actFun:tanh-seq_len:64-n_layers:5-keep_prob:0.459696006212-batch_size:25-downsample:0.644960742075\n",
      "INFO:tensorflow:Restoring parameters from /home/will/Desktop/Neural Network/Sales Forecasting/final/grad_clip:6.37998154905-cell_type:NormLSTM-optimizer:Adam-actFun:relu-seq_len:32-n_layers:4-keep_prob:0.427920301113-batch_size:50-downsample:0.467438862634\n",
      "INFO:tensorflow:Restoring parameters from /home/will/Desktop/Neural Network/Sales Forecasting/final/grad_clip:1.7676565249-cell_type:NormLSTM-optimizer:Adam-actFun:tanh-seq_len:64-n_layers:2-keep_prob:0.716917304571-batch_size:25-downsample:0.940803705956\n",
      "INFO:tensorflow:Restoring parameters from /home/will/Desktop/Neural Network/Sales Forecasting/final/grad_clip:1.0014287617-cell_type:NormLSTM-optimizer:Adam-actFun:tanh-seq_len:64-n_layers:3-keep_prob:0.677708118391-batch_size:25-downsample:0.810976906715\n",
      "INFO:tensorflow:Restoring parameters from /home/will/Desktop/Neural Network/Sales Forecasting/final/grad_clip:2.86814589654-cell_type:highway-optimizer:Adam-actFun:tanh-seq_len:64-n_layers:5-keep_prob:0.801469391508-batch_size:25-downsample:0.719331346325\n",
      "INFO:tensorflow:Restoring parameters from /home/will/Desktop/Neural Network/Sales Forecasting/final/grad_clip:4.74376042578-cell_type:highway-optimizer:Adam-actFun:tanh-seq_len:64-n_layers:2-keep_prob:0.819993479712-batch_size:25-downsample:0.782327028395\n",
      "INFO:tensorflow:Restoring parameters from /home/will/Desktop/Neural Network/Sales Forecasting/final/grad_clip:6.38154110535-cell_type:NormLSTM-optimizer:Adam-actFun:tanh-seq_len:64-n_layers:4-keep_prob:0.415802367601-batch_size:25-downsample:0.684181659341\n",
      "INFO:tensorflow:Restoring parameters from /home/will/Desktop/Neural Network/Sales Forecasting/final/grad_clip:1.40163749265-cell_type:highway-optimizer:Adam-actFun:tanh-seq_len:16-n_layers:2-keep_prob:0.670033419799-batch_size:100-downsample:0.82368610599\n",
      "INFO:tensorflow:Restoring parameters from /home/will/Desktop/Neural Network/Sales Forecasting/final/grad_clip:7.3201240237-cell_type:NormLSTM-optimizer:Adam-actFun:relu-seq_len:64-n_layers:3-keep_prob:0.524084618388-batch_size:25-downsample:0.520909052689\n",
      "INFO:tensorflow:Restoring parameters from /home/will/Desktop/Neural Network/Sales Forecasting/final/grad_clip:7.89519173494-cell_type:highway-optimizer:Adam-actFun:tanh-seq_len:64-n_layers:2-keep_prob:0.745017883177-batch_size:25-downsample:0.902410343017\n",
      "INFO:tensorflow:Restoring parameters from /home/will/Desktop/Neural Network/Sales Forecasting/final/grad_clip:4.14237357172-cell_type:NormLSTM-optimizer:Adam-actFun:relu-seq_len:64-n_layers:4-keep_prob:0.400749504666-batch_size:25-downsample:0.913470970128\n",
      "INFO:tensorflow:Restoring parameters from /home/will/Desktop/Neural Network/Sales Forecasting/final/grad_clip:4.95813489272-cell_type:NormLSTM-optimizer:Adam-actFun:relu-seq_len:32-n_layers:3-keep_prob:0.897205518497-batch_size:50-downsample:0.583659186288\n",
      "INFO:tensorflow:Restoring parameters from /home/will/Desktop/Neural Network/Sales Forecasting/final/grad_clip:2.23405885747-cell_type:NormLSTM-optimizer:Adam-actFun:tanh-seq_len:64-n_layers:2-keep_prob:0.64949104808-batch_size:25-downsample:0.670332198251\n",
      "INFO:tensorflow:Restoring parameters from /home/will/Desktop/Neural Network/Sales Forecasting/final/grad_clip:1.32638769648-cell_type:highway-optimizer:Adam-actFun:tanh-seq_len:32-n_layers:2-keep_prob:0.732932282822-batch_size:50-downsample:0.694517667059\n",
      "INFO:tensorflow:Restoring parameters from /home/will/Desktop/Neural Network/Sales Forecasting/final/grad_clip:4.33557727242-cell_type:NormLSTM-optimizer:Adam-actFun:tanh-seq_len:64-n_layers:2-keep_prob:0.464332365322-batch_size:25-downsample:0.941907479812\n",
      "INFO:tensorflow:Restoring parameters from /home/will/Desktop/Neural Network/Sales Forecasting/final/grad_clip:6.13619058959-cell_type:NormLSTM-optimizer:Adam-actFun:tanh-seq_len:64-n_layers:3-keep_prob:0.877049685508-batch_size:25-downsample:0.884550903377\n"
     ]
    }
   ],
   "source": [
    "y_SI = 0\n",
    "for paras in model_para_list:\n",
    "    y_SI = y_SI + RNN_Train_Forecast(paras,fixedPara,learningRate,epoch,SavePath,repeat,\\\n",
    "                                     y_np, weight_np,Con_np,Dis_np,X_np,Count_np,index,\\\n",
    "                                     Con_np_val,X_np_val,Dis_np_val,d)\n",
    "y_SI = y_SI/len(model_para_list)"
   ]
  },
  {
   "cell_type": "code",
   "execution_count": null,
   "metadata": {
    "collapsed": true
   },
   "outputs": [],
   "source": []
  },
  {
   "cell_type": "code",
   "execution_count": 15,
   "metadata": {
    "collapsed": true,
    "scrolled": false
   },
   "outputs": [],
   "source": [
    "import pandas as pd\n",
    "pd.DataFrame({'id':y_np_val.flatten(),'unit_sales':y_SI.flatten()})\\\n",
    "  .to_csv('FinalSI.csv',index=False)"
   ]
  },
  {
   "cell_type": "code",
   "execution_count": null,
   "metadata": {
    "collapsed": true
   },
   "outputs": [],
   "source": []
  },
  {
   "cell_type": "code",
   "execution_count": null,
   "metadata": {
    "collapsed": true
   },
   "outputs": [],
   "source": [
    "newItem = pd.read_csv('newItem.csv',dtype={'id': 'int32','unit_sales': 'float32'})"
   ]
  },
  {
   "cell_type": "code",
   "execution_count": null,
   "metadata": {
    "collapsed": true
   },
   "outputs": [],
   "source": [
    "SI = pd.DataFrame({'id':y_np_SI.flatten(),'unit_sales':y_SI.flatten()})  "
   ]
  },
  {
   "cell_type": "code",
   "execution_count": null,
   "metadata": {
    "collapsed": true
   },
   "outputs": [],
   "source": [
    "zeroSubmission = pd.read_csv('zeroSubmission_final.csv',dtype={'id': 'int32','unit_sales': 'float32'})"
   ]
  },
  {
   "cell_type": "code",
   "execution_count": null,
   "metadata": {
    "collapsed": true
   },
   "outputs": [],
   "source": [
    "pd.concat([SI,newItem,zeroSubmission]).sort_values(['id']).to_csv(SavePath+'FinalEnsembleWoSecondStage.csv',index=False)"
   ]
  },
  {
   "cell_type": "code",
   "execution_count": null,
   "metadata": {
    "collapsed": true
   },
   "outputs": [],
   "source": []
  },
  {
   "cell_type": "code",
   "execution_count": null,
   "metadata": {
    "collapsed": true
   },
   "outputs": [],
   "source": []
  }
 ],
 "metadata": {
  "kernelspec": {
   "display_name": "Python 2",
   "language": "python",
   "name": "python2"
  },
  "language_info": {
   "codemirror_mode": {
    "name": "ipython",
    "version": 2
   },
   "file_extension": ".py",
   "mimetype": "text/x-python",
   "name": "python",
   "nbconvert_exporter": "python",
   "pygments_lexer": "ipython2",
   "version": "2.7.13"
  }
 },
 "nbformat": 4,
 "nbformat_minor": 2
}
