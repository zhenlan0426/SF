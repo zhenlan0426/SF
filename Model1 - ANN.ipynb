{
 "cells": [
  {
   "cell_type": "code",
   "execution_count": 1,
   "metadata": {
    "collapsed": true
   },
   "outputs": [],
   "source": [
    "import tensorflow as tf\n",
    "import numpy as np\n",
    "import pandas as pd\n",
    "import matplotlib.pyplot as plt\n",
    "%matplotlib inline "
   ]
  },
  {
   "cell_type": "code",
   "execution_count": 2,
   "metadata": {
    "collapsed": true
   },
   "outputs": [],
   "source": [
    "train_discrete = np.loadtxt('train_discrete.csv', dtype=np.int32, delimiter=\",\")\n",
    "train_continuous = np.loadtxt('train_continuous.csv', dtype=np.float32, delimiter=\",\")\n",
    "train_y = np.loadtxt('train_y.csv', dtype=np.float32, delimiter=\",\")"
   ]
  },
  {
   "cell_type": "code",
   "execution_count": 7,
   "metadata": {
    "collapsed": true
   },
   "outputs": [],
   "source": [
    "val_discrete = np.loadtxt('val_discrete.csv', dtype=np.int32, delimiter=\",\")\n",
    "val_continuous = np.loadtxt('val_continuous.csv', dtype=np.float32, delimiter=\",\")\n",
    "val_y = np.loadtxt('val_y.csv', dtype=np.float32, delimiter=\",\")"
   ]
  },
  {
   "cell_type": "code",
   "execution_count": 7,
   "metadata": {
    "collapsed": true
   },
   "outputs": [],
   "source": [
    "test_discrete = np.loadtxt('test_discrete.csv', dtype=np.int32, delimiter=\",\")\n",
    "test_continuous = np.loadtxt('test_continuous.csv', dtype=np.float32, delimiter=\",\")\n",
    "test_id = np.loadtxt('test_id.csv', dtype=np.float32, delimiter=\",\")"
   ]
  },
  {
   "cell_type": "code",
   "execution_count": null,
   "metadata": {
    "collapsed": true
   },
   "outputs": [],
   "source": []
  },
  {
   "cell_type": "code",
   "execution_count": null,
   "metadata": {
    "collapsed": true
   },
   "outputs": [],
   "source": []
  },
  {
   "cell_type": "code",
   "execution_count": null,
   "metadata": {
    "collapsed": true
   },
   "outputs": [],
   "source": []
  }
 ],
 "metadata": {
  "kernelspec": {
   "display_name": "Python 2",
   "language": "python",
   "name": "python2"
  },
  "language_info": {
   "codemirror_mode": {
    "name": "ipython",
    "version": 2
   },
   "file_extension": ".py",
   "mimetype": "text/x-python",
   "name": "python",
   "nbconvert_exporter": "python",
   "pygments_lexer": "ipython2",
   "version": "2.7.13"
  }
 },
 "nbformat": 4,
 "nbformat_minor": 2
}
