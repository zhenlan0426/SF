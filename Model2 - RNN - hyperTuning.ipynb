{
 "cells": [
  {
   "cell_type": "code",
   "execution_count": 1,
   "metadata": {
    "collapsed": true
   },
   "outputs": [],
   "source": [
    "import tensorflow as tf\n",
    "import numpy as np\n",
    "import pandas as pd\n",
    "import matplotlib.pyplot as plt\n",
    "%matplotlib inline \n",
    "from functions import hyperSearch,createGraphRNN2,RNN_generator,init_state_update,RNN_forecast_Repeat,init_state_update_LSTM,RNN_forecast_Repeat_LSTM, LSTM2list\n",
    "import cPickle\n",
    "from hyperopt import hp, fmin, tpe"
   ]
  },
  {
   "cell_type": "code",
   "execution_count": 2,
   "metadata": {
    "collapsed": true
   },
   "outputs": [],
   "source": [
    "discreteList = ['dayOfWeek','payDay','month','earthquake','type','locale','locale_name','transferred','onpromotion']"
   ]
  },
  {
   "cell_type": "code",
   "execution_count": 3,
   "metadata": {
    "collapsed": true
   },
   "outputs": [],
   "source": [
    "learningRate = 1e-4\n",
    "epoch = 10\n",
    "bucketSize = 10000"
   ]
  },
  {
   "cell_type": "code",
   "execution_count": 4,
   "metadata": {
    "collapsed": true
   },
   "outputs": [],
   "source": [
    "cardinalitys_X = [55, 4001, 34, 337, 2, 23, 17, 6, 18]\n",
    "cardinalitys_T = [7, 2, 13, 2, 7, 4, 25, 2, 3]\n",
    "dimentions_X = [2, 20, 1, 2, 1, 1, 1, 1, 1]\n",
    "dimentions_T = [1, 1, 1, 1, 1, 1, 1, 1, 1]"
   ]
  },
  {
   "cell_type": "code",
   "execution_count": 5,
   "metadata": {
    "collapsed": true
   },
   "outputs": [],
   "source": [
    "dX = sum(dimentions_X)\n",
    "dT = sum(dimentions_T)\n",
    "d = dX + dT + 2 # 2 for two cont variables"
   ]
  },
  {
   "cell_type": "code",
   "execution_count": 6,
   "metadata": {
    "collapsed": true
   },
   "outputs": [],
   "source": [
    "prefix = 'train'\n",
    "y_np = np.loadtxt(prefix+'_Y',dtype=np.float32, delimiter=\",\") \n",
    "weight_np = np.loadtxt(prefix+'_Weight',dtype=np.float32, delimiter=\",\") \n",
    "Con_np = np.loadtxt(prefix+'_Con',dtype=np.float32, delimiter=\",\") \n",
    "X_np = np.loadtxt(prefix+'_X',dtype=np.int32,delimiter=\",\") \n",
    "Count_np = np.loadtxt(prefix+'_Count',dtype=np.int32,delimiter=\",\") \n",
    "Dis_np = [np.loadtxt(prefix+'_Dis'+str(j),dtype=np.int32,delimiter=\",\")  for j in range(len(discreteList))]"
   ]
  },
  {
   "cell_type": "code",
   "execution_count": 7,
   "metadata": {
    "collapsed": true
   },
   "outputs": [],
   "source": [
    "prefix = 'val_SI'\n",
    "y_np_val = np.loadtxt(prefix+'_Y',dtype=np.float32, delimiter=\",\") \n",
    "weight_np_val = np.loadtxt(prefix+'_Weight',dtype=np.float32, delimiter=\",\") \n",
    "Con_np_val = np.loadtxt(prefix+'_Con',dtype=np.float32, delimiter=\",\") \n",
    "X_np_val = np.loadtxt(prefix+'_X',dtype=np.int32,delimiter=\",\") \n",
    "Count_np_val = np.loadtxt(prefix+'_Count',dtype=np.int32,delimiter=\",\") \n",
    "Dis_np_val = [np.loadtxt(prefix+'_Dis'+str(j),dtype=np.int32,delimiter=\",\")  for j in range(len(discreteList))]"
   ]
  },
  {
   "cell_type": "code",
   "execution_count": 8,
   "metadata": {
    "collapsed": true
   },
   "outputs": [],
   "source": [
    "index = np.loadtxt('Index_val',dtype=np.int32,delimiter=\",\") "
   ]
  },
  {
   "cell_type": "code",
   "execution_count": 9,
   "metadata": {
    "collapsed": true
   },
   "outputs": [],
   "source": [
    "space = hp.choice('batch_seq',[[100,16],[50,32],[25,64]]) + \\\n",
    "        [hp.uniform('keep_prob',0.4,0.9),hp.quniform('n_layers',2,5,1),\\\n",
    "         hp.uniform('grad_clip',1,10),\\\n",
    "         hp.choice('cell_type',['residual','highway','NormLSTM']),\\\n",
    "         hp.uniform('downsample',0.1,0.95),\\\n",
    "         hp.choice('optimizer',['SGD','Adam']),\\\n",
    "         hp.choice('actFun',['tanh','relu'])]"
   ]
  },
  {
   "cell_type": "code",
   "execution_count": null,
   "metadata": {
    "collapsed": true
   },
   "outputs": [],
   "source": []
  },
  {
   "cell_type": "code",
   "execution_count": null,
   "metadata": {
    "scrolled": false
   },
   "outputs": [
    {
     "name": "stdout",
     "output_type": "stream",
     "text": [
      "INFO:tensorflow:Restoring parameters from RNN_fillin_01\n",
      "loss:0.751857999259 ,batch_size:25 ,seq_len:64 ,keep_prob:0.438493811814 ,n_layers:4 ,grad_clip:1.44716967199 ,cell_type:residual ,downsample:0.190143634047 ,optimizer:Adam ,actFun:tanh \n",
      "\n",
      "INFO:tensorflow:Restoring parameters from RNN_fillin_01\n",
      "loss:0.660828671164 ,batch_size:25 ,seq_len:64 ,keep_prob:0.428501799036 ,n_layers:3 ,grad_clip:4.2006247805 ,cell_type:NormLSTM ,downsample:0.734974933319 ,optimizer:Adam ,actFun:tanh \n",
      "\n",
      "INFO:tensorflow:Restoring parameters from RNN_fillin_01\n",
      "loss:0.850416339561 ,batch_size:100 ,seq_len:16 ,keep_prob:0.684600786523 ,n_layers:3 ,grad_clip:2.46539967114 ,cell_type:NormLSTM ,downsample:0.370682558573 ,optimizer:SGD ,actFun:relu \n",
      "\n",
      "INFO:tensorflow:Restoring parameters from RNN_fillin_01\n",
      "loss:0.837561625021 ,batch_size:100 ,seq_len:16 ,keep_prob:0.887715660492 ,n_layers:3 ,grad_clip:3.2011664133 ,cell_type:NormLSTM ,downsample:0.761040522817 ,optimizer:SGD ,actFun:relu \n",
      "\n",
      "INFO:tensorflow:Restoring parameters from RNN_fillin_01\n",
      "loss:0.663968292735 ,batch_size:25 ,seq_len:64 ,keep_prob:0.524084618388 ,n_layers:3 ,grad_clip:7.3201240237 ,cell_type:NormLSTM ,downsample:0.520909052689 ,optimizer:Adam ,actFun:relu \n",
      "\n",
      "INFO:tensorflow:Restoring parameters from RNN_fillin_01\n",
      "loss:0.831129453996 ,batch_size:50 ,seq_len:32 ,keep_prob:0.835909682481 ,n_layers:4 ,grad_clip:7.55667356704 ,cell_type:NormLSTM ,downsample:0.856152425197 ,optimizer:SGD ,actFun:relu \n",
      "\n",
      "INFO:tensorflow:Restoring parameters from RNN_fillin_01\n",
      "loss:0.66583363572 ,batch_size:25 ,seq_len:64 ,keep_prob:0.577794591272 ,n_layers:3 ,grad_clip:1.15361199045 ,cell_type:highway ,downsample:0.837614071154 ,optimizer:Adam ,actFun:tanh \n",
      "\n",
      "INFO:tensorflow:Restoring parameters from RNN_fillin_01\n",
      "loss:0.914868903853 ,batch_size:50 ,seq_len:32 ,keep_prob:0.844601101258 ,n_layers:2 ,grad_clip:3.64638769285 ,cell_type:residual ,downsample:0.801930625599 ,optimizer:SGD ,actFun:tanh \n",
      "\n",
      "INFO:tensorflow:Restoring parameters from RNN_fillin_01\n",
      "loss:0.668626249753 ,batch_size:100 ,seq_len:16 ,keep_prob:0.778359661357 ,n_layers:5 ,grad_clip:7.03117451161 ,cell_type:NormLSTM ,downsample:0.786787653479 ,optimizer:Adam ,actFun:relu \n",
      "\n",
      "INFO:tensorflow:Restoring parameters from RNN_fillin_01\n",
      "loss:0.662645938382 ,batch_size:25 ,seq_len:64 ,keep_prob:0.801469391508 ,n_layers:5 ,grad_clip:2.86814589654 ,cell_type:highway ,downsample:0.719331346325 ,optimizer:Adam ,actFun:tanh \n",
      "\n",
      "INFO:tensorflow:Restoring parameters from RNN_fillin_01\n",
      "loss:0.661709284799 ,batch_size:50 ,seq_len:32 ,keep_prob:0.427920301113 ,n_layers:4 ,grad_clip:6.37998154905 ,cell_type:NormLSTM ,downsample:0.467438862634 ,optimizer:Adam ,actFun:relu \n",
      "\n",
      "INFO:tensorflow:Restoring parameters from RNN_fillin_01\n",
      "loss:0.837191701482 ,batch_size:100 ,seq_len:16 ,keep_prob:0.632658049648 ,n_layers:4 ,grad_clip:5.96865630827 ,cell_type:highway ,downsample:0.397951144974 ,optimizer:SGD ,actFun:relu \n",
      "\n",
      "INFO:tensorflow:Restoring parameters from RNN_fillin_01\n",
      "loss:0.792227713563 ,batch_size:50 ,seq_len:32 ,keep_prob:0.868669225219 ,n_layers:3 ,grad_clip:9.72621313162 ,cell_type:residual ,downsample:0.563286819161 ,optimizer:SGD ,actFun:relu \n",
      "\n",
      "INFO:tensorflow:Restoring parameters from RNN_fillin_01\n",
      "loss:0.664102216543 ,batch_size:50 ,seq_len:32 ,keep_prob:0.897205518497 ,n_layers:3 ,grad_clip:4.95813489272 ,cell_type:NormLSTM ,downsample:0.583659186288 ,optimizer:Adam ,actFun:relu \n",
      "\n",
      "INFO:tensorflow:Restoring parameters from RNN_fillin_01\n",
      "loss:0.698280322761 ,batch_size:25 ,seq_len:64 ,keep_prob:0.538598617502 ,n_layers:3 ,grad_clip:9.44541413586 ,cell_type:highway ,downsample:0.302875033231 ,optimizer:Adam ,actFun:tanh \n",
      "\n",
      "INFO:tensorflow:Restoring parameters from RNN_fillin_01\n",
      "loss:0.935732383095 ,batch_size:50 ,seq_len:32 ,keep_prob:0.775316438734 ,n_layers:3 ,grad_clip:1.50294281608 ,cell_type:residual ,downsample:0.742554990978 ,optimizer:SGD ,actFun:tanh \n",
      "\n",
      "INFO:tensorflow:Restoring parameters from RNN_fillin_01\n",
      "loss:0.714772455381 ,batch_size:25 ,seq_len:64 ,keep_prob:0.86669239099 ,n_layers:4 ,grad_clip:5.19174175993 ,cell_type:NormLSTM ,downsample:0.215226501749 ,optimizer:Adam ,actFun:relu \n",
      "\n"
     ]
    }
   ],
   "source": [
    "best = fmin(hyperSearch,space,tpe.suggest,100)"
   ]
  },
  {
   "cell_type": "code",
   "execution_count": null,
   "metadata": {
    "collapsed": true
   },
   "outputs": [],
   "source": []
  },
  {
   "cell_type": "code",
   "execution_count": null,
   "metadata": {
    "collapsed": true
   },
   "outputs": [],
   "source": []
  },
  {
   "cell_type": "code",
   "execution_count": null,
   "metadata": {
    "collapsed": true
   },
   "outputs": [],
   "source": []
  }
 ],
 "metadata": {
  "kernelspec": {
   "display_name": "Python 2",
   "language": "python",
   "name": "python2"
  },
  "language_info": {
   "codemirror_mode": {
    "name": "ipython",
    "version": 2
   },
   "file_extension": ".py",
   "mimetype": "text/x-python",
   "name": "python",
   "nbconvert_exporter": "python",
   "pygments_lexer": "ipython2",
   "version": "2.7.13"
  }
 },
 "nbformat": 4,
 "nbformat_minor": 2
}
