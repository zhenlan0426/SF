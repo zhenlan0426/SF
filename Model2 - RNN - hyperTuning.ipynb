{
 "cells": [
  {
   "cell_type": "code",
   "execution_count": 1,
   "metadata": {
    "collapsed": true
   },
   "outputs": [],
   "source": [
    "import tensorflow as tf\n",
    "import numpy as np\n",
    "import pandas as pd\n",
    "import matplotlib.pyplot as plt\n",
    "%matplotlib inline \n",
    "from functions import hyperSearch,createGraphRNN2,RNN_generator,init_state_update,RNN_forecast_Repeat,init_state_update_LSTM,RNN_forecast_Repeat_LSTM, LSTM2list\n",
    "import cPickle\n",
    "from hyperopt import hp, fmin, tpe"
   ]
  },
  {
   "cell_type": "code",
   "execution_count": 2,
   "metadata": {
    "collapsed": true
   },
   "outputs": [],
   "source": [
    "discreteList = ['dayOfWeek','payDay','month','earthquake','type','locale','locale_name','transferred','onpromotion']"
   ]
  },
  {
   "cell_type": "code",
   "execution_count": 3,
   "metadata": {
    "collapsed": true
   },
   "outputs": [],
   "source": [
    "learningRate = 1e-4\n",
    "epoch = 10\n",
    "bucketSize = 10000"
   ]
  },
  {
   "cell_type": "code",
   "execution_count": 4,
   "metadata": {
    "collapsed": true
   },
   "outputs": [],
   "source": [
    "cardinalitys_X = [55, 4001, 34, 337, 2, 23, 17, 6, 18]\n",
    "cardinalitys_T = [7, 2, 13, 2, 7, 4, 25, 2, 3]\n",
    "dimentions_X = [2, 20, 1, 2, 1, 1, 1, 1, 1]\n",
    "dimentions_T = [1, 1, 1, 1, 1, 1, 1, 1, 1]"
   ]
  },
  {
   "cell_type": "code",
   "execution_count": 5,
   "metadata": {
    "collapsed": true
   },
   "outputs": [],
   "source": [
    "dX = sum(dimentions_X)\n",
    "dT = sum(dimentions_T)\n",
    "d = dX + dT + 2 # 2 for two cont variables"
   ]
  },
  {
   "cell_type": "code",
   "execution_count": 6,
   "metadata": {
    "collapsed": true
   },
   "outputs": [],
   "source": [
    "prefix = 'train'\n",
    "y_np = np.loadtxt(prefix+'_Y',dtype=np.float32, delimiter=\",\") \n",
    "weight_np = np.loadtxt(prefix+'_Weight',dtype=np.float32, delimiter=\",\") \n",
    "Con_np = np.loadtxt(prefix+'_Con',dtype=np.float32, delimiter=\",\") \n",
    "X_np = np.loadtxt(prefix+'_X',dtype=np.int32,delimiter=\",\") \n",
    "Count_np = np.loadtxt(prefix+'_Count',dtype=np.int32,delimiter=\",\") \n",
    "Dis_np = [np.loadtxt(prefix+'_Dis'+str(j),dtype=np.int32,delimiter=\",\")  for j in range(len(discreteList))]"
   ]
  },
  {
   "cell_type": "code",
   "execution_count": 7,
   "metadata": {
    "collapsed": true
   },
   "outputs": [],
   "source": [
    "prefix = 'val_SI'\n",
    "y_np_val = np.loadtxt(prefix+'_Y',dtype=np.float32, delimiter=\",\") \n",
    "weight_np_val = np.loadtxt(prefix+'_Weight',dtype=np.float32, delimiter=\",\") \n",
    "Con_np_val = np.loadtxt(prefix+'_Con',dtype=np.float32, delimiter=\",\") \n",
    "X_np_val = np.loadtxt(prefix+'_X',dtype=np.int32,delimiter=\",\") \n",
    "Count_np_val = np.loadtxt(prefix+'_Count',dtype=np.int32,delimiter=\",\") \n",
    "Dis_np_val = [np.loadtxt(prefix+'_Dis'+str(j),dtype=np.int32,delimiter=\",\")  for j in range(len(discreteList))]"
   ]
  },
  {
   "cell_type": "code",
   "execution_count": 8,
   "metadata": {
    "collapsed": true
   },
   "outputs": [],
   "source": [
    "index = np.loadtxt('Index_val',dtype=np.int32,delimiter=\",\") "
   ]
  },
  {
   "cell_type": "code",
   "execution_count": 9,
   "metadata": {
    "collapsed": true
   },
   "outputs": [],
   "source": [
    "space = hp.choice('batch_seq',[[100,16],[50,32],[25,64]]) + \\\n",
    "        [hp.uniform('keep_prob',0.4,0.9),hp.quniform('n_layers',2,5,1),\\\n",
    "         hp.uniform('grad_clip',1,10),\\\n",
    "         hp.choice('cell_type',['residual','highway','NormLSTM']),\\\n",
    "         hp.uniform('downsample',0.1,0.95),\\\n",
    "         hp.choice('optimizer',['SGD','Adam']),\\\n",
    "         hp.choice('actFun',['tanh','relu'])]"
   ]
  },
  {
   "cell_type": "code",
   "execution_count": null,
   "metadata": {
    "collapsed": true
   },
   "outputs": [],
   "source": []
  },
  {
   "cell_type": "code",
   "execution_count": null,
   "metadata": {
    "scrolled": false
   },
   "outputs": [
    {
     "name": "stdout",
     "output_type": "stream",
     "text": [
      "INFO:tensorflow:Restoring parameters from RNN_fillin_01\n",
      "loss:0.751857999259 ,batch_size:25 ,seq_len:64 ,keep_prob:0.438493811814 ,n_layers:4 ,grad_clip:1.44716967199 ,cell_type:residual ,downsample:0.190143634047 ,optimizer:Adam ,actFun:tanh \n",
      "\n",
      "INFO:tensorflow:Restoring parameters from RNN_fillin_01\n",
      "loss:0.660828671164 ,batch_size:25 ,seq_len:64 ,keep_prob:0.428501799036 ,n_layers:3 ,grad_clip:4.2006247805 ,cell_type:NormLSTM ,downsample:0.734974933319 ,optimizer:Adam ,actFun:tanh \n",
      "\n",
      "INFO:tensorflow:Restoring parameters from RNN_fillin_01\n",
      "loss:0.850416339561 ,batch_size:100 ,seq_len:16 ,keep_prob:0.684600786523 ,n_layers:3 ,grad_clip:2.46539967114 ,cell_type:NormLSTM ,downsample:0.370682558573 ,optimizer:SGD ,actFun:relu \n",
      "\n",
      "INFO:tensorflow:Restoring parameters from RNN_fillin_01\n",
      "loss:0.837561625021 ,batch_size:100 ,seq_len:16 ,keep_prob:0.887715660492 ,n_layers:3 ,grad_clip:3.2011664133 ,cell_type:NormLSTM ,downsample:0.761040522817 ,optimizer:SGD ,actFun:relu \n",
      "\n",
      "INFO:tensorflow:Restoring parameters from RNN_fillin_01\n",
      "loss:0.663968292735 ,batch_size:25 ,seq_len:64 ,keep_prob:0.524084618388 ,n_layers:3 ,grad_clip:7.3201240237 ,cell_type:NormLSTM ,downsample:0.520909052689 ,optimizer:Adam ,actFun:relu \n",
      "\n",
      "INFO:tensorflow:Restoring parameters from RNN_fillin_01\n",
      "loss:0.831129453996 ,batch_size:50 ,seq_len:32 ,keep_prob:0.835909682481 ,n_layers:4 ,grad_clip:7.55667356704 ,cell_type:NormLSTM ,downsample:0.856152425197 ,optimizer:SGD ,actFun:relu \n",
      "\n",
      "INFO:tensorflow:Restoring parameters from RNN_fillin_01\n",
      "loss:0.66583363572 ,batch_size:25 ,seq_len:64 ,keep_prob:0.577794591272 ,n_layers:3 ,grad_clip:1.15361199045 ,cell_type:highway ,downsample:0.837614071154 ,optimizer:Adam ,actFun:tanh \n",
      "\n",
      "INFO:tensorflow:Restoring parameters from RNN_fillin_01\n",
      "loss:0.914868903853 ,batch_size:50 ,seq_len:32 ,keep_prob:0.844601101258 ,n_layers:2 ,grad_clip:3.64638769285 ,cell_type:residual ,downsample:0.801930625599 ,optimizer:SGD ,actFun:tanh \n",
      "\n",
      "INFO:tensorflow:Restoring parameters from RNN_fillin_01\n",
      "loss:0.668626249753 ,batch_size:100 ,seq_len:16 ,keep_prob:0.778359661357 ,n_layers:5 ,grad_clip:7.03117451161 ,cell_type:NormLSTM ,downsample:0.786787653479 ,optimizer:Adam ,actFun:relu \n",
      "\n",
      "INFO:tensorflow:Restoring parameters from RNN_fillin_01\n",
      "loss:0.662645938382 ,batch_size:25 ,seq_len:64 ,keep_prob:0.801469391508 ,n_layers:5 ,grad_clip:2.86814589654 ,cell_type:highway ,downsample:0.719331346325 ,optimizer:Adam ,actFun:tanh \n",
      "\n",
      "INFO:tensorflow:Restoring parameters from RNN_fillin_01\n",
      "loss:0.661709284799 ,batch_size:50 ,seq_len:32 ,keep_prob:0.427920301113 ,n_layers:4 ,grad_clip:6.37998154905 ,cell_type:NormLSTM ,downsample:0.467438862634 ,optimizer:Adam ,actFun:relu \n",
      "\n",
      "INFO:tensorflow:Restoring parameters from RNN_fillin_01\n",
      "loss:0.837191701482 ,batch_size:100 ,seq_len:16 ,keep_prob:0.632658049648 ,n_layers:4 ,grad_clip:5.96865630827 ,cell_type:highway ,downsample:0.397951144974 ,optimizer:SGD ,actFun:relu \n",
      "\n",
      "INFO:tensorflow:Restoring parameters from RNN_fillin_01\n",
      "loss:0.792227713563 ,batch_size:50 ,seq_len:32 ,keep_prob:0.868669225219 ,n_layers:3 ,grad_clip:9.72621313162 ,cell_type:residual ,downsample:0.563286819161 ,optimizer:SGD ,actFun:relu \n",
      "\n",
      "INFO:tensorflow:Restoring parameters from RNN_fillin_01\n",
      "loss:0.664102216543 ,batch_size:50 ,seq_len:32 ,keep_prob:0.897205518497 ,n_layers:3 ,grad_clip:4.95813489272 ,cell_type:NormLSTM ,downsample:0.583659186288 ,optimizer:Adam ,actFun:relu \n",
      "\n",
      "INFO:tensorflow:Restoring parameters from RNN_fillin_01\n",
      "loss:0.698280322761 ,batch_size:25 ,seq_len:64 ,keep_prob:0.538598617502 ,n_layers:3 ,grad_clip:9.44541413586 ,cell_type:highway ,downsample:0.302875033231 ,optimizer:Adam ,actFun:tanh \n",
      "\n",
      "INFO:tensorflow:Restoring parameters from RNN_fillin_01\n",
      "loss:0.935732383095 ,batch_size:50 ,seq_len:32 ,keep_prob:0.775316438734 ,n_layers:3 ,grad_clip:1.50294281608 ,cell_type:residual ,downsample:0.742554990978 ,optimizer:SGD ,actFun:tanh \n",
      "\n",
      "INFO:tensorflow:Restoring parameters from RNN_fillin_01\n",
      "loss:0.714772455381 ,batch_size:25 ,seq_len:64 ,keep_prob:0.86669239099 ,n_layers:4 ,grad_clip:5.19174175993 ,cell_type:NormLSTM ,downsample:0.215226501749 ,optimizer:Adam ,actFun:relu \n",
      "\n",
      "INFO:tensorflow:Restoring parameters from RNN_fillin_01\n",
      "loss:0.670461520723 ,batch_size:50 ,seq_len:32 ,keep_prob:0.410364751497 ,n_layers:3 ,grad_clip:5.18122741032 ,cell_type:NormLSTM ,downsample:0.523838931568 ,optimizer:Adam ,actFun:relu \n",
      "\n",
      "INFO:tensorflow:Restoring parameters from RNN_fillin_01\n",
      "loss:0.747426824337 ,batch_size:50 ,seq_len:32 ,keep_prob:0.752579723441 ,n_layers:5 ,grad_clip:8.66493567783 ,cell_type:highway ,downsample:0.248702706865 ,optimizer:Adam ,actFun:relu \n",
      "\n",
      "INFO:tensorflow:Restoring parameters from RNN_fillin_01\n",
      "loss:0.669488727906 ,batch_size:100 ,seq_len:16 ,keep_prob:0.579435675777 ,n_layers:4 ,grad_clip:6.14490885437 ,cell_type:highway ,downsample:0.586135404491 ,optimizer:Adam ,actFun:tanh \n",
      "\n",
      "INFO:tensorflow:Restoring parameters from RNN_fillin_01\n",
      "loss:0.664688040119 ,batch_size:25 ,seq_len:64 ,keep_prob:0.464332365322 ,n_layers:2 ,grad_clip:4.33557727242 ,cell_type:NormLSTM ,downsample:0.941907479812 ,optimizer:Adam ,actFun:tanh \n",
      "\n",
      "INFO:tensorflow:Restoring parameters from RNN_fillin_01\n",
      "loss:0.749014445304 ,batch_size:50 ,seq_len:32 ,keep_prob:0.483681986427 ,n_layers:2 ,grad_clip:4.25741654376 ,cell_type:NormLSTM ,downsample:0.109699513069 ,optimizer:Adam ,actFun:tanh \n",
      "\n",
      "INFO:tensorflow:Restoring parameters from RNN_fillin_01\n",
      "loss:0.662879001423 ,batch_size:25 ,seq_len:64 ,keep_prob:0.415802367601 ,n_layers:4 ,grad_clip:6.38154110535 ,cell_type:NormLSTM ,downsample:0.684181659341 ,optimizer:Adam ,actFun:tanh \n",
      "\n",
      "INFO:tensorflow:Restoring parameters from RNN_fillin_01\n",
      "loss:0.679859249295 ,batch_size:50 ,seq_len:32 ,keep_prob:0.506565217775 ,n_layers:5 ,grad_clip:8.19555112305 ,cell_type:NormLSTM ,downsample:0.43814331331 ,optimizer:Adam ,actFun:tanh \n",
      "\n",
      "INFO:tensorflow:Restoring parameters from RNN_fillin_01\n",
      "loss:0.664144376307 ,batch_size:25 ,seq_len:64 ,keep_prob:0.64949104808 ,n_layers:2 ,grad_clip:2.23405885747 ,cell_type:NormLSTM ,downsample:0.670332198251 ,optimizer:Adam ,actFun:tanh \n",
      "\n",
      "INFO:tensorflow:Restoring parameters from RNN_fillin_01\n",
      "loss:0.664099479094 ,batch_size:25 ,seq_len:64 ,keep_prob:0.400749504666 ,n_layers:4 ,grad_clip:4.14237357172 ,cell_type:NormLSTM ,downsample:0.913470970128 ,optimizer:Adam ,actFun:relu \n",
      "\n",
      "INFO:tensorflow:Restoring parameters from RNN_fillin_01\n",
      "loss:0.722370854289 ,batch_size:50 ,seq_len:32 ,keep_prob:0.570654437105 ,n_layers:4 ,grad_clip:6.92388086145 ,cell_type:residual ,downsample:0.469248379777 ,optimizer:Adam ,actFun:relu \n",
      "\n",
      "INFO:tensorflow:Restoring parameters from RNN_fillin_01\n",
      "loss:0.661421359273 ,batch_size:25 ,seq_len:64 ,keep_prob:0.459696006212 ,n_layers:5 ,grad_clip:5.76707667157 ,cell_type:NormLSTM ,downsample:0.644960742075 ,optimizer:Adam ,actFun:tanh \n",
      "\n",
      "INFO:tensorflow:Restoring parameters from RNN_fillin_01\n",
      "loss:0.684884841212 ,batch_size:25 ,seq_len:64 ,keep_prob:0.458594854452 ,n_layers:2 ,grad_clip:5.62623073069 ,cell_type:residual ,downsample:0.656023917854 ,optimizer:Adam ,actFun:tanh \n",
      "\n",
      "INFO:tensorflow:Restoring parameters from RNN_fillin_01\n",
      "loss:0.665549375151 ,batch_size:25 ,seq_len:64 ,keep_prob:0.605195720139 ,n_layers:5 ,grad_clip:3.63759830941 ,cell_type:NormLSTM ,downsample:0.637967527502 ,optimizer:Adam ,actFun:tanh \n",
      "\n",
      "INFO:tensorflow:Restoring parameters from RNN_fillin_01\n",
      "loss:0.660436243575 ,batch_size:25 ,seq_len:64 ,keep_prob:0.702969880055 ,n_layers:2 ,grad_clip:2.01736824207 ,cell_type:NormLSTM ,downsample:0.898455532427 ,optimizer:Adam ,actFun:tanh \n",
      "\n",
      "INFO:tensorflow:Restoring parameters from RNN_fillin_01\n",
      "loss:0.883284990919 ,batch_size:25 ,seq_len:64 ,keep_prob:0.708721194125 ,n_layers:2 ,grad_clip:2.1144551159 ,cell_type:NormLSTM ,downsample:0.890253839161 ,optimizer:SGD ,actFun:tanh \n",
      "\n",
      "INFO:tensorflow:Restoring parameters from RNN_fillin_01\n",
      "loss:0.661718810351 ,batch_size:25 ,seq_len:64 ,keep_prob:0.716917304571 ,n_layers:2 ,grad_clip:1.7676565249 ,cell_type:NormLSTM ,downsample:0.940803705956 ,optimizer:Adam ,actFun:tanh \n",
      "\n",
      "INFO:tensorflow:Restoring parameters from RNN_fillin_01\n",
      "loss:0.910203989766 ,batch_size:100 ,seq_len:16 ,keep_prob:0.727772587088 ,n_layers:2 ,grad_clip:3.14406264117 ,cell_type:NormLSTM ,downsample:0.843817754644 ,optimizer:SGD ,actFun:tanh \n",
      "\n"
     ]
    },
    {
     "name": "stdout",
     "output_type": "stream",
     "text": [
      "INFO:tensorflow:Restoring parameters from RNN_fillin_01\n",
      "loss:0.669223009372 ,batch_size:25 ,seq_len:64 ,keep_prob:0.688568177106 ,n_layers:3 ,grad_clip:2.74735930053 ,cell_type:residual ,downsample:0.86764099351 ,optimizer:Adam ,actFun:tanh \n",
      "\n",
      "INFO:tensorflow:Restoring parameters from RNN_fillin_01\n",
      "loss:0.662124070986 ,batch_size:25 ,seq_len:64 ,keep_prob:0.677708118391 ,n_layers:3 ,grad_clip:1.0014287617 ,cell_type:NormLSTM ,downsample:0.810976906715 ,optimizer:Adam ,actFun:tanh \n",
      "\n",
      "INFO:tensorflow:Restoring parameters from RNN_fillin_01\n",
      "loss:0.896138309345 ,batch_size:100 ,seq_len:16 ,keep_prob:0.619404762938 ,n_layers:2 ,grad_clip:3.80018428292 ,cell_type:NormLSTM ,downsample:0.719242142249 ,optimizer:SGD ,actFun:tanh \n",
      "\n",
      "INFO:tensorflow:Restoring parameters from RNN_fillin_01\n",
      "loss:0.658355174628 ,batch_size:25 ,seq_len:64 ,keep_prob:0.813682171767 ,n_layers:2 ,grad_clip:4.71494036186 ,cell_type:highway ,downsample:0.771180461646 ,optimizer:Adam ,actFun:tanh \n",
      "\n",
      "INFO:tensorflow:Restoring parameters from RNN_fillin_01\n",
      "loss:0.662689832265 ,batch_size:25 ,seq_len:64 ,keep_prob:0.819993479712 ,n_layers:2 ,grad_clip:4.74376042578 ,cell_type:highway ,downsample:0.782327028395 ,optimizer:Adam ,actFun:tanh \n",
      "\n",
      "INFO:tensorflow:Restoring parameters from RNN_fillin_01\n",
      "loss:0.663997220589 ,batch_size:25 ,seq_len:64 ,keep_prob:0.745017883177 ,n_layers:2 ,grad_clip:7.89519173494 ,cell_type:highway ,downsample:0.902410343017 ,optimizer:Adam ,actFun:tanh \n",
      "\n",
      "INFO:tensorflow:Restoring parameters from RNN_fillin_01\n",
      "loss:1.03296622605 ,batch_size:25 ,seq_len:64 ,keep_prob:0.79779875025 ,n_layers:2 ,grad_clip:3.24927978762 ,cell_type:highway ,downsample:0.946920248571 ,optimizer:SGD ,actFun:tanh \n",
      "\n",
      "INFO:tensorflow:Restoring parameters from RNN_fillin_01\n",
      "loss:0.663631860561 ,batch_size:100 ,seq_len:16 ,keep_prob:0.670033419799 ,n_layers:2 ,grad_clip:1.40163749265 ,cell_type:highway ,downsample:0.82368610599 ,optimizer:Adam ,actFun:tanh \n",
      "\n",
      "INFO:tensorflow:Restoring parameters from RNN_fillin_01\n",
      "loss:0.670442873496 ,batch_size:25 ,seq_len:64 ,keep_prob:0.8299481266 ,n_layers:3 ,grad_clip:2.63650221565 ,cell_type:highway ,downsample:0.610056787069 ,optimizer:Adam ,actFun:tanh \n",
      "\n",
      "INFO:tensorflow:Restoring parameters from RNN_fillin_01\n",
      "loss:1.09775854971 ,batch_size:25 ,seq_len:64 ,keep_prob:0.864849520823 ,n_layers:2 ,grad_clip:4.68598585012 ,cell_type:highway ,downsample:0.70930113413 ,optimizer:SGD ,actFun:tanh \n",
      "\n",
      "INFO:tensorflow:Restoring parameters from RNN_fillin_01\n",
      "loss:0.666311136951 ,batch_size:100 ,seq_len:16 ,keep_prob:0.77380181982 ,n_layers:3 ,grad_clip:1.95021704022 ,cell_type:highway ,downsample:0.765041808068 ,optimizer:Adam ,actFun:tanh \n",
      "\n",
      "INFO:tensorflow:Restoring parameters from RNN_fillin_01\n",
      "loss:0.688145183056 ,batch_size:25 ,seq_len:64 ,keep_prob:0.808897312117 ,n_layers:3 ,grad_clip:6.81842302569 ,cell_type:residual ,downsample:0.312759804334 ,optimizer:Adam ,actFun:tanh \n",
      "\n",
      "INFO:tensorflow:Restoring parameters from RNN_fillin_01\n",
      "loss:1.13142220256 ,batch_size:25 ,seq_len:64 ,keep_prob:0.896636796464 ,n_layers:2 ,grad_clip:3.38391339689 ,cell_type:highway ,downsample:0.857748349942 ,optimizer:SGD ,actFun:tanh \n",
      "\n",
      "INFO:tensorflow:Restoring parameters from RNN_fillin_01\n",
      "loss:0.733566000904 ,batch_size:25 ,seq_len:64 ,keep_prob:0.754519135187 ,n_layers:2 ,grad_clip:3.93367820758 ,cell_type:highway ,downsample:0.12007111011 ,optimizer:Adam ,actFun:tanh \n",
      "\n",
      "INFO:tensorflow:Restoring parameters from RNN_fillin_01\n",
      "loss:0.682480674267 ,batch_size:100 ,seq_len:16 ,keep_prob:0.845824592735 ,n_layers:3 ,grad_clip:7.40256020379 ,cell_type:residual ,downsample:0.5471394505 ,optimizer:Adam ,actFun:relu \n",
      "\n",
      "INFO:tensorflow:Restoring parameters from RNN_fillin_01\n",
      "loss:0.667305756749 ,batch_size:25 ,seq_len:64 ,keep_prob:0.699230927337 ,n_layers:3 ,grad_clip:5.3382410993 ,cell_type:highway ,downsample:0.789741306711 ,optimizer:Adam ,actFun:tanh \n",
      "\n",
      "INFO:tensorflow:Restoring parameters from RNN_fillin_01\n",
      "loss:0.806998369816 ,batch_size:25 ,seq_len:64 ,keep_prob:0.791073835932 ,n_layers:2 ,grad_clip:9.0500731424 ,cell_type:highway ,downsample:0.48713239831 ,optimizer:SGD ,actFun:relu \n",
      "\n",
      "INFO:tensorflow:Restoring parameters from RNN_fillin_01\n",
      "loss:0.674838914017 ,batch_size:100 ,seq_len:16 ,keep_prob:0.657960837405 ,n_layers:3 ,grad_clip:2.50935050559 ,cell_type:residual ,downsample:0.745649047806 ,optimizer:Adam ,actFun:tanh \n",
      "\n",
      "INFO:tensorflow:Restoring parameters from RNN_fillin_01\n",
      "loss:0.664346813598 ,batch_size:50 ,seq_len:32 ,keep_prob:0.732932282822 ,n_layers:2 ,grad_clip:1.32638769648 ,cell_type:highway ,downsample:0.694517667059 ,optimizer:Adam ,actFun:tanh \n",
      "\n",
      "INFO:tensorflow:Restoring parameters from RNN_fillin_01\n",
      "loss:0.831894626056 ,batch_size:25 ,seq_len:64 ,keep_prob:0.536886131396 ,n_layers:2 ,grad_clip:4.75363011622 ,cell_type:highway ,downsample:0.366736824493 ,optimizer:Adam ,actFun:relu \n",
      "\n"
     ]
    }
   ],
   "source": [
    "best = fmin(hyperSearch,space,tpe.suggest,100)"
   ]
  },
  {
   "cell_type": "code",
   "execution_count": null,
   "metadata": {
    "collapsed": true
   },
   "outputs": [],
   "source": []
  },
  {
   "cell_type": "code",
   "execution_count": null,
   "metadata": {
    "collapsed": true
   },
   "outputs": [],
   "source": []
  },
  {
   "cell_type": "code",
   "execution_count": null,
   "metadata": {
    "collapsed": true
   },
   "outputs": [],
   "source": []
  }
 ],
 "metadata": {
  "kernelspec": {
   "display_name": "Python 2",
   "language": "python",
   "name": "python2"
  },
  "language_info": {
   "codemirror_mode": {
    "name": "ipython",
    "version": 2
   },
   "file_extension": ".py",
   "mimetype": "text/x-python",
   "name": "python",
   "nbconvert_exporter": "python",
   "pygments_lexer": "ipython2",
   "version": "2.7.13"
  }
 },
 "nbformat": 4,
 "nbformat_minor": 2
}
