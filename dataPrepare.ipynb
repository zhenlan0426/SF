{
 "cells": [
  {
   "cell_type": "code",
   "execution_count": 1,
   "metadata": {
    "collapsed": true
   },
   "outputs": [],
   "source": [
    "import numpy as np\n",
    "import pandas as pd\n",
    "from functions import createDataMain,createTestDataMain,pd2np,pd2np_test\n",
    "import cPickle"
   ]
  },
  {
   "cell_type": "code",
   "execution_count": 2,
   "metadata": {
    "collapsed": true
   },
   "outputs": [],
   "source": [
    "batch_size = 100\n",
    "discreteList = ['dayOfWeek','payDay','month','earthquake',\\\n",
    "                'type','locale','locale_name','transferred','onpromotion']\n"
   ]
  },
  {
   "cell_type": "code",
   "execution_count": 3,
   "metadata": {
    "collapsed": true
   },
   "outputs": [],
   "source": [
    "with open(r\"dateVar.pickle\", \"rb\") as input_file:\n",
    "    dateVar_list = cPickle.load(input_file)"
   ]
  },
  {
   "cell_type": "code",
   "execution_count": null,
   "metadata": {
    "collapsed": true
   },
   "outputs": [],
   "source": []
  },
  {
   "cell_type": "markdown",
   "metadata": {},
   "source": [
    "Save item lookup tables"
   ]
  },
  {
   "cell_type": "code",
   "execution_count": 5,
   "metadata": {},
   "outputs": [
    {
     "name": "stderr",
     "output_type": "stream",
     "text": [
      "/home/will/anaconda2/lib/python2.7/site-packages/IPython/core/interactiveshell.py:2717: DtypeWarning: Columns (5) have mixed types. Specify dtype option on import or set low_memory=False.\n",
      "  interactivity=interactivity, compiler=compiler, result=result)\n"
     ]
    }
   ],
   "source": [
    "types = {'id': 'int32',\n",
    "     'item_nbr': 'int32',\n",
    "     'store_nbr': 'int8',\n",
    "     'unit_sales': 'float32',\n",
    "     'onpromotion': bool}\n",
    "train = pd.read_csv('train.csv',usecols=['date','item_nbr','store_nbr','unit_sales','onpromotion'],\\\n",
    "                    parse_dates=['date'],dtype=types, infer_datetime_format=True)\n",
    "train = train.fillna(2,axis=1)\n",
    "train.onpromotion = train.onpromotion.astype(np.int8)\n",
    "train.loc[train.unit_sales<0,'unit_sales'] = .0 # clip negative sales to zero\n",
    "item_uniq = pd.unique(train.item_nbr)\n",
    "item_dict = {item:i+1 for i,item in enumerate(item_uniq)}"
   ]
  },
  {
   "cell_type": "code",
   "execution_count": 6,
   "metadata": {
    "collapsed": true
   },
   "outputs": [],
   "source": [
    "with open(r\"item_dict_final.pickle\", \"wb\") as output_file:\n",
    "    cPickle.dump(item_dict, output_file)"
   ]
  },
  {
   "cell_type": "code",
   "execution_count": 7,
   "metadata": {
    "collapsed": true
   },
   "outputs": [],
   "source": [
    "train = train[train.date < '2017-07-31']\n",
    "item_uniq = pd.unique(train.item_nbr)\n",
    "item_dict = {item:i+1 for i,item in enumerate(item_uniq)}"
   ]
  },
  {
   "cell_type": "code",
   "execution_count": 8,
   "metadata": {
    "collapsed": true
   },
   "outputs": [],
   "source": [
    "with open(r\"item_dict_train.pickle\", \"wb\") as output_file:\n",
    "    cPickle.dump(item_dict, output_file)"
   ]
  },
  {
   "cell_type": "code",
   "execution_count": null,
   "metadata": {
    "collapsed": true
   },
   "outputs": [],
   "source": []
  },
  {
   "cell_type": "markdown",
   "metadata": {},
   "source": [
    "*** Train and Validation datasets ***"
   ]
  },
  {
   "cell_type": "code",
   "execution_count": 4,
   "metadata": {},
   "outputs": [
    {
     "name": "stderr",
     "output_type": "stream",
     "text": [
      "/home/will/anaconda2/lib/python2.7/site-packages/IPython/core/interactiveshell.py:2821: DtypeWarning: Columns (5) have mixed types. Specify dtype option on import or set low_memory=False.\n",
      "  if self.run_code(code, result):\n"
     ]
    }
   ],
   "source": [
    "train,val = createDataMain(True)"
   ]
  },
  {
   "cell_type": "code",
   "execution_count": 5,
   "metadata": {
    "collapsed": true
   },
   "outputs": [],
   "source": [
    "y_np, weight_np,Con_np,Dis_np,X_np,Count_np = \\\n",
    "            pd2np(val,batch_size,val.countDays.max(),dateVar_list,'date',discreteList)"
   ]
  },
  {
   "cell_type": "code",
   "execution_count": 6,
   "metadata": {
    "collapsed": true
   },
   "outputs": [],
   "source": [
    "prefix = 'val'"
   ]
  },
  {
   "cell_type": "code",
   "execution_count": 7,
   "metadata": {
    "collapsed": true
   },
   "outputs": [],
   "source": [
    "np.savetxt(prefix+'_Y',y_np,fmt=\"%f\",delimiter=\",\") \n",
    "np.savetxt(prefix+'_Weight',weight_np,fmt=\"%f\",delimiter=\",\") \n",
    "np.savetxt(prefix+'_Con',Con_np,fmt=\"%f\",delimiter=\",\") \n",
    "np.savetxt(prefix+'_X',X_np,fmt=\"%d\",delimiter=\",\") \n",
    "np.savetxt(prefix+'_Count',Count_np,fmt=\"%d\",delimiter=\",\") \n",
    "for j in range(len(discreteList)):\n",
    "    np.savetxt(prefix+'_Dis'+str(j),Dis_np[:,:,j],fmt=\"%d\",delimiter=\",\")  "
   ]
  },
  {
   "cell_type": "code",
   "execution_count": 8,
   "metadata": {
    "collapsed": true
   },
   "outputs": [],
   "source": [
    "y_np, weight_np,Con_np,Dis_np,X_np,Count_np = \\\n",
    "            pd2np(train,batch_size,train.countDays.max(),dateVar_list,'date',discreteList)"
   ]
  },
  {
   "cell_type": "code",
   "execution_count": 9,
   "metadata": {
    "collapsed": true
   },
   "outputs": [],
   "source": [
    "sorts = np.argsort(Count_np)\n",
    "y_np, weight_np,Con_np,Dis_np,X_np,Count_np = y_np[sorts], weight_np[sorts],\\\n",
    "                                            Con_np[sorts],Dis_np[sorts],X_np[sorts],Count_np[sorts]"
   ]
  },
  {
   "cell_type": "code",
   "execution_count": 10,
   "metadata": {
    "collapsed": true
   },
   "outputs": [],
   "source": [
    "prefix = 'train'"
   ]
  },
  {
   "cell_type": "code",
   "execution_count": 11,
   "metadata": {
    "collapsed": true
   },
   "outputs": [],
   "source": [
    "np.savetxt(prefix+'_Y',y_np,fmt=\"%f\",delimiter=\",\") \n",
    "np.savetxt(prefix+'_Weight',weight_np,fmt=\"%f\",delimiter=\",\") \n",
    "np.savetxt(prefix+'_Con',Con_np,fmt=\"%f\",delimiter=\",\") \n",
    "np.savetxt(prefix+'_X',X_np,fmt=\"%d\",delimiter=\",\") \n",
    "np.savetxt(prefix+'_Count',Count_np,fmt=\"%d\",delimiter=\",\") \n",
    "for j in range(len(discreteList)):\n",
    "    np.savetxt(prefix+'_Dis'+str(j),Dis_np[:,:,j],fmt=\"%d\",delimiter=\",\")  "
   ]
  },
  {
   "cell_type": "code",
   "execution_count": null,
   "metadata": {
    "collapsed": true
   },
   "outputs": [],
   "source": []
  },
  {
   "cell_type": "code",
   "execution_count": null,
   "metadata": {
    "collapsed": true
   },
   "outputs": [],
   "source": []
  },
  {
   "cell_type": "markdown",
   "metadata": {
    "collapsed": true
   },
   "source": [
    "y_np = np.loadtxt(prefix+'_Y',dtype=np.float32, delimiter=\",\") \n",
    "weight_np = np.loadtxt(prefix+'_Weight',dtype=np.float32, delimiter=\",\") \n",
    "Con_np = np.loadtxt(prefix+'_Con',dtype=np.float32, delimiter=\",\") \n",
    "X_np = np.loadtxt(prefix+'_X',dtype=np.int32,delimiter=\",\") \n",
    "Count_np = np.loadtxt(prefix+'_Count',dtype=np.int32,delimiter=\",\") \n",
    "Dis_np = [np.loadtxt(prefix+'_Dis'+str(j),dtype=np.int32,delimiter=\",\")  for j in range(len(discreteList))]"
   ]
  },
  {
   "cell_type": "code",
   "execution_count": null,
   "metadata": {
    "collapsed": true
   },
   "outputs": [],
   "source": []
  },
  {
   "cell_type": "markdown",
   "metadata": {},
   "source": [
    "*** Test datasets ***"
   ]
  },
  {
   "cell_type": "code",
   "execution_count": 5,
   "metadata": {
    "scrolled": false
   },
   "outputs": [],
   "source": [
    "test_SI,test_newItem = createTestDataMain(True)"
   ]
  },
  {
   "cell_type": "code",
   "execution_count": 26,
   "metadata": {
    "collapsed": true
   },
   "outputs": [],
   "source": [
    "y_np, Con_np,Dis_np,X_np = \\\n",
    "pd2np_test(test_SI,batch_size,16,dateVar_list,'date',discreteList)"
   ]
  },
  {
   "cell_type": "code",
   "execution_count": 27,
   "metadata": {
    "collapsed": true
   },
   "outputs": [],
   "source": [
    "prefix = 'test_SI'"
   ]
  },
  {
   "cell_type": "code",
   "execution_count": 28,
   "metadata": {
    "collapsed": true
   },
   "outputs": [],
   "source": [
    "np.savetxt(prefix+'_Y',y_np,fmt=\"%d\",delimiter=\",\") \n",
    "np.savetxt(prefix+'_Con',Con_np,fmt=\"%f\",delimiter=\",\") \n",
    "np.savetxt(prefix+'_X',X_np,fmt=\"%d\",delimiter=\",\") \n",
    "for j in range(len(discreteList)):\n",
    "    np.savetxt(prefix+'_Dis'+str(j),Dis_np[:,:,j],fmt=\"%d\",delimiter=\",\")  "
   ]
  },
  {
   "cell_type": "code",
   "execution_count": null,
   "metadata": {
    "collapsed": true
   },
   "outputs": [],
   "source": []
  },
  {
   "cell_type": "code",
   "execution_count": 29,
   "metadata": {
    "collapsed": true
   },
   "outputs": [],
   "source": [
    "y_np, Con_np,Dis_np,X_np = \\\n",
    "pd2np_test(test_newItem,batch_size,16,dateVar_list,'date',discreteList)"
   ]
  },
  {
   "cell_type": "code",
   "execution_count": 30,
   "metadata": {
    "collapsed": true
   },
   "outputs": [],
   "source": [
    "prefix = 'test_newItem'"
   ]
  },
  {
   "cell_type": "code",
   "execution_count": 31,
   "metadata": {
    "collapsed": true
   },
   "outputs": [],
   "source": [
    "np.savetxt(prefix+'_Y',y_np,fmt=\"%d\",delimiter=\",\") \n",
    "np.savetxt(prefix+'_Con',Con_np,fmt=\"%f\",delimiter=\",\") \n",
    "np.savetxt(prefix+'_X',X_np,fmt=\"%d\",delimiter=\",\") \n",
    "for j in range(len(discreteList)):\n",
    "    np.savetxt(prefix+'_Dis'+str(j),Dis_np[:,:,j],fmt=\"%d\",delimiter=\",\")  "
   ]
  },
  {
   "cell_type": "code",
   "execution_count": null,
   "metadata": {
    "collapsed": true
   },
   "outputs": [],
   "source": []
  },
  {
   "cell_type": "code",
   "execution_count": 16,
   "metadata": {},
   "outputs": [],
   "source": [
    "# train[index] gives the corresponding historical Xs for test dataset\n",
    "index = test_SI.merge(train.reset_index()[['index','store_nbr','item_nbr']],\\\n",
    "                     'left',['store_nbr','item_nbr'])['index'].values.astype(np.int32)"
   ]
  },
  {
   "cell_type": "code",
   "execution_count": 23,
   "metadata": {
    "collapsed": true
   },
   "outputs": [],
   "source": [
    "np.savetxt('Index',index,fmt=\"%d\",delimiter=\",\") "
   ]
  },
  {
   "cell_type": "code",
   "execution_count": null,
   "metadata": {
    "collapsed": true
   },
   "outputs": [],
   "source": []
  }
 ],
 "metadata": {
  "kernelspec": {
   "display_name": "Python 2",
   "language": "python",
   "name": "python2"
  },
  "language_info": {
   "codemirror_mode": {
    "name": "ipython",
    "version": 2
   },
   "file_extension": ".py",
   "mimetype": "text/x-python",
   "name": "python",
   "nbconvert_exporter": "python",
   "pygments_lexer": "ipython2",
   "version": "2.7.13"
  }
 },
 "nbformat": 4,
 "nbformat_minor": 2
}
