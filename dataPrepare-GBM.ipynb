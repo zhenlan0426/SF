{
 "cells": [
  {
   "cell_type": "code",
   "execution_count": 4,
   "metadata": {
    "collapsed": true
   },
   "outputs": [],
   "source": [
    "import numpy as np\n",
    "import pandas as pd\n",
    "import cPickle\n",
    "from functions import labelPermutation"
   ]
  },
  {
   "cell_type": "code",
   "execution_count": 5,
   "metadata": {
    "collapsed": true
   },
   "outputs": [],
   "source": [
    "with open(r\"dateVar.pickle\", \"rb\") as input_file:\n",
    "    dateVar_list = cPickle.load(input_file)"
   ]
  },
  {
   "cell_type": "code",
   "execution_count": 6,
   "metadata": {
    "scrolled": false
   },
   "outputs": [
    {
     "name": "stderr",
     "output_type": "stream",
     "text": [
      "/home/will/anaconda2/lib/python2.7/site-packages/IPython/core/interactiveshell.py:2717: DtypeWarning: Columns (5) have mixed types. Specify dtype option on import or set low_memory=False.\n",
      "  interactivity=interactivity, compiler=compiler, result=result)\n"
     ]
    }
   ],
   "source": [
    "types = {'id': 'int32',\n",
    "     'item_nbr': 'int32',\n",
    "     'store_nbr': 'int8',\n",
    "     'unit_sales': 'float32',\n",
    "     'onpromotion': bool}\n",
    "train = pd.read_csv('train.csv',usecols=['date','item_nbr','store_nbr','unit_sales','onpromotion'],\\\n",
    "                    parse_dates=['date'],dtype=types, infer_datetime_format=True)\n",
    "train = train.fillna(2,axis=1)\n",
    "train.onpromotion = train.onpromotion.astype(np.int8)\n",
    "train.loc[train.unit_sales<0,'unit_sales'] = .0 # clip negative sales to zero"
   ]
  },
  {
   "cell_type": "code",
   "execution_count": 7,
   "metadata": {
    "collapsed": true
   },
   "outputs": [],
   "source": [
    "test = pd.read_csv('test.csv',parse_dates=['date'],dtype=types, infer_datetime_format=True)\n",
    "test = test.fillna(2,axis=1)\n",
    "test.onpromotion = test.onpromotion.astype(np.int8)"
   ]
  },
  {
   "cell_type": "code",
   "execution_count": 8,
   "metadata": {
    "collapsed": true
   },
   "outputs": [],
   "source": [
    "test.columns = [u'unit_sales', u'date', u'store_nbr', u'item_nbr', u'onpromotion']"
   ]
  },
  {
   "cell_type": "code",
   "execution_count": 9,
   "metadata": {
    "collapsed": true
   },
   "outputs": [],
   "source": [
    "#train.groupby('store_nbr')['date'].min().max() \n",
    "train = train.loc[train.store_nbr != 52] # new store\n",
    "test = test.loc[test.store_nbr != 52] # new store"
   ]
  },
  {
   "cell_type": "code",
   "execution_count": 7,
   "metadata": {
    "collapsed": true
   },
   "outputs": [],
   "source": [
    "# train.groupby('store_nbr')['date'].min().max()\n",
    "# --> Timestamp('2015-10-09 00:00:00')"
   ]
  },
  {
   "cell_type": "code",
   "execution_count": null,
   "metadata": {
    "collapsed": true
   },
   "outputs": [],
   "source": []
  },
  {
   "cell_type": "markdown",
   "metadata": {},
   "source": [
    "*** S, I, T dependent variables i.e. Sales and promotions ***"
   ]
  },
  {
   "cell_type": "code",
   "execution_count": 10,
   "metadata": {
    "collapsed": true,
    "scrolled": false
   },
   "outputs": [],
   "source": [
    "train = train.loc[train.date >'2016-07-14']"
   ]
  },
  {
   "cell_type": "code",
   "execution_count": 11,
   "metadata": {
    "collapsed": true
   },
   "outputs": [],
   "source": [
    "train = train.set_index([\"store_nbr\", \"item_nbr\", \"date\"])\\\n",
    "                [[\"unit_sales\",\"onpromotion\"]].unstack(level=-1)"
   ]
  },
  {
   "cell_type": "code",
   "execution_count": 12,
   "metadata": {
    "collapsed": true
   },
   "outputs": [],
   "source": [
    "test = test.set_index([\"store_nbr\", \"item_nbr\", \"date\"])\\\n",
    "                [[\"unit_sales\",\"onpromotion\"]].unstack(level=-1)"
   ]
  },
  {
   "cell_type": "code",
   "execution_count": 13,
   "metadata": {
    "collapsed": true
   },
   "outputs": [],
   "source": [
    "# a = train.columns.get_level_values(1)\n",
    "# assert train.shape[1] == (a.max()- a.min()).days # make sure no gap"
   ]
  },
  {
   "cell_type": "code",
   "execution_count": 14,
   "metadata": {
    "collapsed": true
   },
   "outputs": [],
   "source": [
    "t0 = train.shape[1]/2 - 1"
   ]
  },
  {
   "cell_type": "code",
   "execution_count": 15,
   "metadata": {
    "collapsed": true
   },
   "outputs": [],
   "source": [
    "test2 = test.merge(train,'inner',left_index=True,right_index=True)"
   ]
  },
  {
   "cell_type": "code",
   "execution_count": 16,
   "metadata": {
    "collapsed": true
   },
   "outputs": [],
   "source": [
    "sales = test2.loc[:,'unit_sales'].fillna(0)\n",
    "sales = np.concatenate([sales.iloc[:,16:].values,sales.iloc[:,:16].values],1)"
   ]
  },
  {
   "cell_type": "code",
   "execution_count": 17,
   "metadata": {
    "collapsed": true,
    "scrolled": true
   },
   "outputs": [],
   "source": [
    "promo = test2.loc[:,'onpromotion'].fillna(0.5)\n",
    "promo = np.concatenate([promo.iloc[:,16:].values,promo.iloc[:,:16].values],1)"
   ]
  },
  {
   "cell_type": "code",
   "execution_count": null,
   "metadata": {
    "collapsed": true
   },
   "outputs": [],
   "source": []
  },
  {
   "cell_type": "markdown",
   "metadata": {},
   "source": [
    "*** non time dependent variables, i.e. store and item related ***"
   ]
  },
  {
   "cell_type": "code",
   "execution_count": 18,
   "metadata": {
    "collapsed": true
   },
   "outputs": [],
   "source": [
    "items = pd.read_csv('items.csv')\n",
    "stores = pd.read_csv('stores.csv')"
   ]
  },
  {
   "cell_type": "code",
   "execution_count": 19,
   "metadata": {
    "collapsed": true
   },
   "outputs": [],
   "source": [
    "stores2 = labelPermutation(stores.drop('state',1),['city','type','cluster'],[10,4,8])\n",
    "items2 = labelPermutation(items,['family','class'],[5,20])"
   ]
  },
  {
   "cell_type": "code",
   "execution_count": 20,
   "metadata": {
    "collapsed": true,
    "scrolled": true
   },
   "outputs": [],
   "source": [
    "X = np.concatenate([pd.merge(pd.DataFrame(test2.reset_index()[['store_nbr']].values,columns=['store_nbr'])\\\n",
    "                             ,stores2,'left','store_nbr').drop('store_nbr',1).values,\\\n",
    "                    pd.merge(pd.DataFrame(test2.reset_index()[['item_nbr']].values,columns=['item_nbr'])\\\n",
    "                             ,items2,'left','item_nbr').drop('item_nbr',1).values],1).astype(np.float32)"
   ]
  },
  {
   "cell_type": "code",
   "execution_count": null,
   "metadata": {
    "collapsed": true
   },
   "outputs": [],
   "source": []
  },
  {
   "cell_type": "markdown",
   "metadata": {},
   "source": [
    "*** time dependent variables ***"
   ]
  },
  {
   "cell_type": "code",
   "execution_count": 19,
   "metadata": {
    "collapsed": true
   },
   "outputs": [],
   "source": [
    "maxDate = test2.columns.get_level_values(1).max()\n",
    "minDate = test2.columns.get_level_values(1).min()"
   ]
  },
  {
   "cell_type": "code",
   "execution_count": 75,
   "metadata": {
    "collapsed": true
   },
   "outputs": [],
   "source": [
    "# 2016-12-25 is not in training dataset\n",
    "dateVar_list = [labelPermutation(dateVar.loc[(dateVar.date>=minDate) & \\\n",
    "                                             (dateVar.date<=maxDate) & (dateVar.date!='2016-12-25')]\\\n",
    "                       .drop(['date','locale_name'],1),\n",
    "                        ['type','locale'],[4,2]).values.T\\\n",
    "                for dateVar in dateVar_list]"
   ]
  },
  {
   "cell_type": "code",
   "execution_count": null,
   "metadata": {
    "collapsed": true
   },
   "outputs": [],
   "source": []
  },
  {
   "cell_type": "markdown",
   "metadata": {},
   "source": [
    "*** Create training & test dataset ***"
   ]
  },
  {
   "cell_type": "code",
   "execution_count": 103,
   "metadata": {
    "collapsed": true
   },
   "outputs": [],
   "source": [
    "def _creatX(t0):\n",
    "    # t0+1 is the first prediction date\n",
    "    n = sales.shape[0]\n",
    "    return np.concatenate([np.stack(\n",
    "                    [sales[:,t0-7:t0].mean(1), sales[:,t0-14:t0].mean(1), sales[:,t0-30:t0].mean(1),sales[:,t0-60:t0].mean(1),\\\n",
    "                     sales[:,t0-90:t0].mean(1),sales[:,t0-120:t0].mean(1),\\\n",
    "                     sales[:,t0-30:t0].mean(1)-sales[:,t0-60:t0-30].mean(1),sales[:,t0-7:t0].mean(1)-sales[:,t0-14:t0-7].mean(1),\\\n",
    "                     sales[:,t0]],1),\\\n",
    "                    np.stack(\n",
    "                    [promo[:,t0-7:t0].mean(1), promo[:,t0-14:t0].mean(1), promo[:,t0-30:t0].mean(1),\\\n",
    "                     promo[:,t0-60:t0].mean(1), promo[:,t0-90:t0].mean(1),\\\n",
    "                     promo[:,t0-30:t0].mean(1)-promo[:,t0-60:t0-30].mean(1),promo[:,t0-7:t0].mean(1)-promo[:,t0-14:t0-7].mean(1),\\\n",
    "                     ],1),\\\n",
    "                    promo[:,t0:t0+17],\\\n",
    "                    X,\\\n",
    "                    np.broadcast_to(dateVar_list[np.random.randint(0,10)][:,t0:t0+17].flatten(),(n,204))],1)"
   ]
  },
  {
   "cell_type": "code",
   "execution_count": 127,
   "metadata": {
    "collapsed": true
   },
   "outputs": [],
   "source": [
    "def CreateGBMTrain(timePoints=range(0,255,16),startT=t0-32):\n",
    "    X_, Y_ = [],[]\n",
    "    for t in timePoints:\n",
    "        X_.append(_creatX(startT-t))\n",
    "        Y_.append(sales[:,startT-t+1:startT-t+17])\n",
    "    return np.concatenate(X_,0),np.concatenate(Y_,0)"
   ]
  },
  {
   "cell_type": "code",
   "execution_count": 104,
   "metadata": {
    "collapsed": true
   },
   "outputs": [],
   "source": [
    "def CreateGBMTest(startT):\n",
    "    return _creatX(startT), sales[:,startT+1:startT+17]"
   ]
  },
  {
   "cell_type": "code",
   "execution_count": 105,
   "metadata": {
    "collapsed": true
   },
   "outputs": [],
   "source": [
    "Xt,Yt = CreateGBMTest(t0)"
   ]
  },
  {
   "cell_type": "code",
   "execution_count": 108,
   "metadata": {
    "collapsed": true
   },
   "outputs": [],
   "source": [
    "prefix = 'test_GBM'\n",
    "np.savetxt(prefix+'_Xt',Xt,fmt=\"%f\",delimiter=\",\") \n",
    "np.savetxt(prefix+'_Yt',Yt,fmt=\"%f\",delimiter=\",\") "
   ]
  },
  {
   "cell_type": "code",
   "execution_count": 110,
   "metadata": {
    "collapsed": true
   },
   "outputs": [],
   "source": [
    "Xt,Yt = CreateGBMTest(t0-16)"
   ]
  },
  {
   "cell_type": "code",
   "execution_count": 112,
   "metadata": {
    "collapsed": true
   },
   "outputs": [],
   "source": [
    "prefix = 'val_GBM'\n",
    "np.savetxt(prefix+'_Xt',Xt,fmt=\"%f\",delimiter=\",\") \n",
    "np.savetxt(prefix+'_Yt',Yt,fmt=\"%f\",delimiter=\",\") "
   ]
  },
  {
   "cell_type": "code",
   "execution_count": 128,
   "metadata": {
    "collapsed": true
   },
   "outputs": [],
   "source": [
    "Xt,Yt = CreateGBMTrain()"
   ]
  },
  {
   "cell_type": "code",
   "execution_count": 133,
   "metadata": {
    "collapsed": true
   },
   "outputs": [],
   "source": [
    "prefix = 'train_GBM'\n",
    "np.savetxt(prefix+'_Xt',Xt,fmt=\"%f\",delimiter=\",\") \n",
    "np.savetxt(prefix+'_Yt',Yt,fmt=\"%f\",delimiter=\",\") "
   ]
  },
  {
   "cell_type": "code",
   "execution_count": null,
   "metadata": {
    "collapsed": true
   },
   "outputs": [],
   "source": []
  }
 ],
 "metadata": {
  "kernelspec": {
   "display_name": "Python 2",
   "language": "python",
   "name": "python2"
  },
  "language_info": {
   "codemirror_mode": {
    "name": "ipython",
    "version": 2
   },
   "file_extension": ".py",
   "mimetype": "text/x-python",
   "name": "python",
   "nbconvert_exporter": "python",
   "pygments_lexer": "ipython2",
   "version": "2.7.13"
  }
 },
 "nbformat": 4,
 "nbformat_minor": 2
}
