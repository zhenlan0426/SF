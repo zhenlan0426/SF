{
 "cells": [
  {
   "cell_type": "code",
   "execution_count": 1,
   "metadata": {
    "collapsed": true
   },
   "outputs": [],
   "source": [
    "import numpy as np\n",
    "from hyperopt import hp, fmin, tpe\n",
    "from functions import CreatDataGBM\n",
    "import xgboost as xgb"
   ]
  },
  {
   "cell_type": "code",
   "execution_count": 2,
   "metadata": {},
   "outputs": [
    {
     "name": "stderr",
     "output_type": "stream",
     "text": [
      "/home/will/anaconda2/lib/python2.7/site-packages/IPython/core/interactiveshell.py:2821: DtypeWarning: Columns (5) have mixed types. Specify dtype option on import or set low_memory=False.\n",
      "  if self.run_code(code, result):\n"
     ]
    }
   ],
   "source": [
    "X_train,Y_train,X_val,Y_val,X_test,Y_test,Weight = CreatDataGBM()"
   ]
  },
  {
   "cell_type": "code",
   "execution_count": 50,
   "metadata": {
    "collapsed": true
   },
   "outputs": [],
   "source": [
    "def NWRMSLE_exp(preds, dtrain):\n",
    "    labels = dtrain.get_label()\n",
    "    preds = np.exp(preds)\n",
    "    temp1 = preds/(preds+1)\n",
    "    temp2 = np.log(preds+1) - labels\n",
    "    return temp2*temp1, temp1*temp1 + temp2*temp1*(1-temp1)"
   ]
  },
  {
   "cell_type": "code",
   "execution_count": 51,
   "metadata": {
    "collapsed": true
   },
   "outputs": [],
   "source": [
    "def NWRMSLE_relu(preds, dtrain):\n",
    "    labels = dtrain.get_label()\n",
    "    preds2 = np.maximum(preds,0)\n",
    "    inc = preds>0\n",
    "    temp1 = inc/(1+preds2)\n",
    "    temp2 = np.log(preds2+1) - labels\n",
    "    sq = temp1*temp1\n",
    "    return temp2*temp1, sq - temp2*sq"
   ]
  },
  {
   "cell_type": "code",
   "execution_count": 47,
   "metadata": {
    "collapsed": true
   },
   "outputs": [],
   "source": [
    "'''def NWRMSLE_sq(preds, dtrain):\n",
    "    labels = dtrain.get_label()\n",
    "    preds2 = preds**2\n",
    "    temp1 = preds/(1+preds2)\n",
    "    temp2 = np.log(preds2+1) - labels\n",
    "    return temp2*temp1, temp1*temp1 + temp2*(3*preds2+1)/(preds2+1)**2'''"
   ]
  },
  {
   "cell_type": "code",
   "execution_count": 52,
   "metadata": {},
   "outputs": [],
   "source": [
    "objective_fun = [(NWRMSLE_exp,np.exp),(NWRMSLE_relu,lambda x:np.maximum(x,0))]"
   ]
  },
  {
   "cell_type": "code",
   "execution_count": 9,
   "metadata": {
    "collapsed": true
   },
   "outputs": [],
   "source": [
    "def loss_func(Weight,yhat,y):\n",
    "    return np.sqrt(np.sum(Weight*(np.log(yhat+1)-y)**2)/np.sum(Weight))"
   ]
  },
  {
   "cell_type": "code",
   "execution_count": 43,
   "metadata": {
    "collapsed": true
   },
   "outputs": [],
   "source": [
    "param = {}\n",
    "param['eta'] = 0.25\n",
    "param['max_depth'] = 10\n",
    "param['min_child_weight'] = 1\n",
    "param['tree_method'] = 'hist'\n",
    "monitor = 20\n",
    "monitorTimes = 7"
   ]
  },
  {
   "cell_type": "code",
   "execution_count": null,
   "metadata": {
    "collapsed": true
   },
   "outputs": [],
   "source": [
    "def hyperSearchGBM(paras):   \n",
    "    model_para = param.copy()\n",
    "    model_para['subsample'] = paras[0]\n",
    "    model_para['colsample_bytree'] = paras[1]\n",
    "    model_para['gamma'] = paras[2]\n",
    "    obj,link = objective_fun[paras[3]]\n",
    "    tot_loss = 0\n",
    "    for i in range(16):\n",
    "        dtrain = xgb.DMatrix(\n",
    "            X_train, label=Y_train[:, i],\n",
    "            weight=np.tile(Weight,16)\n",
    "        )\n",
    "        dval = xgb.DMatrix(\n",
    "            X_val, label=Y_val[:, i],\n",
    "            weight=Weight)\n",
    "        \n",
    "        best_loss = 100\n",
    "        for j in range(monitorTimes):           \n",
    "            # train\n",
    "            if j == 0:\n",
    "                model = xgb.train(param, dtrain, monitor,obj=obj)\n",
    "            else:\n",
    "                model = xgb.train(param, dtrain, monitor,obj=NWRMSLE_relu,xgb_model=model)\n",
    "            # eval\n",
    "            yhat = link(model.predict(dval,output_margin=True))\n",
    "            loss = loss_func(Weight,yhat,Y_val[:, i])\n",
    "            if loss < best_loss:\n",
    "                best_loss = loss\n",
    "            else:\n",
    "                break # early stop\n",
    "        tot_loss = tot_loss + best_loss\n",
    "    \n",
    "    tot_loss = tot_loss/16    \n",
    "    print \"loss:{} , subsample:{}, colsample:{}, gamma:{} ,objective:{} \\n\"\\\n",
    "              .format(tot_loss,paras[0],paras[1],paras[2],paras[3])  \n",
    "    return tot_loss"
   ]
  },
  {
   "cell_type": "code",
   "execution_count": null,
   "metadata": {
    "collapsed": true
   },
   "outputs": [],
   "source": [
    "space = [hp.uniform('subsample',0.01,0.15),\\\n",
    "         hp.uniform('colsample',0.1,0.8),\\\n",
    "         hp.uniform('gamma',1,100),\\\n",
    "         hp.choice('models',[0,1])]"
   ]
  },
  {
   "cell_type": "code",
   "execution_count": null,
   "metadata": {
    "collapsed": true
   },
   "outputs": [],
   "source": [
    "best = fmin(hyperSearch2,space,tpe.suggest,60)"
   ]
  },
  {
   "cell_type": "code",
   "execution_count": null,
   "metadata": {
    "collapsed": true
   },
   "outputs": [],
   "source": []
  },
  {
   "cell_type": "code",
   "execution_count": null,
   "metadata": {
    "collapsed": true
   },
   "outputs": [],
   "source": []
  },
  {
   "cell_type": "code",
   "execution_count": null,
   "metadata": {
    "collapsed": true
   },
   "outputs": [],
   "source": []
  },
  {
   "cell_type": "code",
   "execution_count": null,
   "metadata": {
    "collapsed": true
   },
   "outputs": [],
   "source": []
  },
  {
   "cell_type": "code",
   "execution_count": null,
   "metadata": {
    "collapsed": true
   },
   "outputs": [],
   "source": []
  },
  {
   "cell_type": "code",
   "execution_count": null,
   "metadata": {
    "collapsed": true
   },
   "outputs": [],
   "source": []
  }
 ],
 "metadata": {
  "kernelspec": {
   "display_name": "Python 2",
   "language": "python",
   "name": "python2"
  },
  "language_info": {
   "codemirror_mode": {
    "name": "ipython",
    "version": 2
   },
   "file_extension": ".py",
   "mimetype": "text/x-python",
   "name": "python",
   "nbconvert_exporter": "python",
   "pygments_lexer": "ipython2",
   "version": "2.7.13"
  }
 },
 "nbformat": 4,
 "nbformat_minor": 2
}
