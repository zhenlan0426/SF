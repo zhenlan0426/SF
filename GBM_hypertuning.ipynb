{
 "cells": [
  {
   "cell_type": "code",
   "execution_count": 1,
   "metadata": {
    "collapsed": true
   },
   "outputs": [],
   "source": [
    "import numpy as np\n",
    "from hyperopt import hp, fmin, tpe\n",
    "from functions import CreatDataGBM\n",
    "import xgboost as xgb"
   ]
  },
  {
   "cell_type": "code",
   "execution_count": 2,
   "metadata": {},
   "outputs": [
    {
     "name": "stderr",
     "output_type": "stream",
     "text": [
      "/home/will/anaconda2/lib/python2.7/site-packages/IPython/core/interactiveshell.py:2821: DtypeWarning: Columns (5) have mixed types. Specify dtype option on import or set low_memory=False.\n",
      "  if self.run_code(code, result):\n"
     ]
    }
   ],
   "source": [
    "X_train,Y_train,X_val,Y_val,X_test,Y_test,Weight = CreatDataGBM()"
   ]
  },
  {
   "cell_type": "code",
   "execution_count": 3,
   "metadata": {
    "collapsed": true
   },
   "outputs": [],
   "source": [
    "def NWRMSLE_exp(preds, dtrain):\n",
    "    labels = dtrain.get_label()\n",
    "    preds = np.exp(preds)\n",
    "    temp1 = preds/(preds+1)\n",
    "    temp2 = np.log(preds+1) - labels\n",
    "    return temp2*temp1, temp1*temp1 + temp2*temp1*(1-temp1)"
   ]
  },
  {
   "cell_type": "code",
   "execution_count": 4,
   "metadata": {
    "collapsed": true
   },
   "outputs": [],
   "source": [
    "def NWRMSLE_relu(preds, dtrain):\n",
    "    labels = dtrain.get_label()\n",
    "    preds2 = np.maximum(preds,0)\n",
    "    inc = preds>0\n",
    "    temp1 = inc/(1+preds2)\n",
    "    temp2 = np.log(preds2+1) - labels\n",
    "    sq = temp1*temp1\n",
    "    return temp2*temp1, sq - temp2*sq"
   ]
  },
  {
   "cell_type": "code",
   "execution_count": 5,
   "metadata": {},
   "outputs": [
    {
     "data": {
      "text/plain": [
       "'def NWRMSLE_sq(preds, dtrain):\\n    labels = dtrain.get_label()\\n    preds2 = preds**2\\n    temp1 = preds/(1+preds2)\\n    temp2 = np.log(preds2+1) - labels\\n    return temp2*temp1, temp1*temp1 + temp2*(3*preds2+1)/(preds2+1)**2'"
      ]
     },
     "execution_count": 5,
     "metadata": {},
     "output_type": "execute_result"
    }
   ],
   "source": [
    "'''def NWRMSLE_sq(preds, dtrain):\n",
    "    labels = dtrain.get_label()\n",
    "    preds2 = preds**2\n",
    "    temp1 = preds/(1+preds2)\n",
    "    temp2 = np.log(preds2+1) - labels\n",
    "    return temp2*temp1, temp1*temp1 + temp2*(3*preds2+1)/(preds2+1)**2'''"
   ]
  },
  {
   "cell_type": "code",
   "execution_count": 6,
   "metadata": {},
   "outputs": [],
   "source": [
    "objective_fun = [(NWRMSLE_exp,np.exp),(NWRMSLE_relu,lambda x:np.maximum(x,0))]"
   ]
  },
  {
   "cell_type": "code",
   "execution_count": 7,
   "metadata": {
    "collapsed": true
   },
   "outputs": [],
   "source": [
    "def loss_func(Weight,yhat,y):\n",
    "    return np.sqrt(np.sum(Weight*(np.log(yhat+1)-y)**2)/np.sum(Weight))"
   ]
  },
  {
   "cell_type": "code",
   "execution_count": 8,
   "metadata": {
    "collapsed": true
   },
   "outputs": [],
   "source": [
    "param = {}\n",
    "param['eta'] = 0.25\n",
    "param['max_depth'] = 10\n",
    "param['min_child_weight'] = 1\n",
    "param['tree_method'] = 'hist'\n",
    "monitor = 20\n",
    "monitorTimes = 7"
   ]
  },
  {
   "cell_type": "code",
   "execution_count": 16,
   "metadata": {
    "collapsed": true
   },
   "outputs": [],
   "source": [
    "def hyperSearchGBM(paras):   \n",
    "    model_para = param.copy()\n",
    "    model_para['subsample'] = paras[0]\n",
    "    model_para['colsample_bytree'] = paras[1]\n",
    "    model_para['gamma'] = paras[2]\n",
    "    obj,link = objective_fun[paras[3]]\n",
    "    tot_loss = 0\n",
    "    for i in range(16):\n",
    "        dtrain = xgb.DMatrix(\n",
    "            X_train, label=Y_train[:, i],\n",
    "            weight=np.tile(Weight,16)\n",
    "        )\n",
    "        dval = xgb.DMatrix(\n",
    "            X_val, label=Y_val[:, i],\n",
    "            weight=Weight)\n",
    "        \n",
    "        best_loss = 100\n",
    "        for j in range(monitorTimes):           \n",
    "            # train\n",
    "            if j == 0:\n",
    "                model = xgb.train(model_para, dtrain, monitor,obj=obj)\n",
    "            else:\n",
    "                model = xgb.train(model_para, dtrain, monitor,obj=NWRMSLE_relu,xgb_model=model)\n",
    "            # eval\n",
    "            yhat = link(model.predict(dval,output_margin=True))\n",
    "            loss = loss_func(Weight,yhat,Y_val[:, i])\n",
    "            if loss < best_loss:\n",
    "                best_loss = loss\n",
    "            else:\n",
    "                break # early stop\n",
    "        tot_loss = tot_loss + best_loss\n",
    "\n",
    "    tot_loss = tot_loss/16    \n",
    "    print \"loss:{} , subsample:{}, colsample:{}, gamma:{} ,objective:{} \\n\"\\\n",
    "              .format(tot_loss,paras[0],paras[1],paras[2],paras[3])  \n",
    "    return tot_loss"
   ]
  },
  {
   "cell_type": "code",
   "execution_count": 17,
   "metadata": {
    "collapsed": true
   },
   "outputs": [],
   "source": [
    "space = [hp.uniform('subsample',0.01,0.15),\\\n",
    "         hp.uniform('colsample',0.1,0.8),\\\n",
    "         hp.uniform('gamma',1,100),\\\n",
    "         hp.choice('models',[0,1])]"
   ]
  },
  {
   "cell_type": "code",
   "execution_count": 18,
   "metadata": {
    "scrolled": false
   },
   "outputs": [
    {
     "name": "stdout",
     "output_type": "stream",
     "text": [
      "loss:0.449536966995 , subsample:0.0550761473573, colsample:0.645103497042, gamma:51.3732251887 ,objective:0 \n",
      "\n",
      "loss:0.451796226477 , subsample:0.138429686425, colsample:0.501925709187, gamma:1.9867476064 ,objective:0 \n",
      "\n",
      "loss:0.431957986459 , subsample:0.0556206950421, colsample:0.526688633213, gamma:10.3156374802 ,objective:1 \n",
      "\n",
      "loss:0.473952657583 , subsample:0.0416467203721, colsample:0.394301144392, gamma:50.3403500953 ,objective:0 \n",
      "\n",
      "loss:0.4412054121 , subsample:0.139355950746, colsample:0.172517980542, gamma:23.0057283308 ,objective:1 \n",
      "\n",
      "loss:0.440183298222 , subsample:0.0945076372895, colsample:0.291004901366, gamma:72.744758734 ,objective:1 \n",
      "\n",
      "loss:0.43047335466 , subsample:0.0721617898053, colsample:0.766616468485, gamma:28.7265834674 ,objective:1 \n",
      "\n",
      "loss:0.463586819607 , subsample:0.110491032977, colsample:0.329793243217, gamma:29.0351299682 ,objective:0 \n",
      "\n",
      "loss:0.459741106811 , subsample:0.0430870172236, colsample:0.534802592304, gamma:29.0052059014 ,objective:0 \n",
      "\n",
      "loss:0.452176726444 , subsample:0.102837679319, colsample:0.584691109305, gamma:77.8473727415 ,objective:0 \n",
      "\n",
      "loss:0.48904861078 , subsample:0.0943287011393, colsample:0.289421180016, gamma:62.0967617553 ,objective:0 \n",
      "\n",
      "loss:0.463798302245 , subsample:0.127729144063, colsample:0.125996862964, gamma:91.6726432543 ,objective:1 \n",
      "\n",
      "loss:0.43342342081 , subsample:0.113166897362, colsample:0.675225804067, gamma:77.3638086326 ,objective:1 \n",
      "\n",
      "loss:0.45859736875 , subsample:0.102624390471, colsample:0.428494686388, gamma:70.692258453 ,objective:0 \n",
      "\n",
      "loss:0.455309752349 , subsample:0.0382806680616, colsample:0.589546061057, gamma:41.9114253648 ,objective:0 \n",
      "\n",
      "loss:0.439342097366 , subsample:0.14118871714, colsample:0.243678259454, gamma:52.5763303697 ,objective:1 \n",
      "\n",
      "loss:0.457381825041 , subsample:0.114387171636, colsample:0.493761762722, gamma:82.8604937834 ,objective:0 \n",
      "\n",
      "loss:0.454336531632 , subsample:0.12792996418, colsample:0.130327833651, gamma:41.8849589247 ,objective:1 \n",
      "\n",
      "loss:0.476112297185 , subsample:0.012608418563, colsample:0.47353287307, gamma:65.0076992536 ,objective:0 \n",
      "\n",
      "loss:0.428748532779 , subsample:0.141183024362, colsample:0.799520809273, gamma:55.0131302522 ,objective:1 \n",
      "\n",
      "loss:0.428547794793 , subsample:0.074976639842, colsample:0.799778171756, gamma:16.9421261368 ,objective:1 \n",
      "\n",
      "loss:0.42749003189 , subsample:0.0772514936229, colsample:0.784514959714, gamma:16.1161847747 ,objective:1 \n",
      "\n",
      "loss:0.428437711124 , subsample:0.0798351485908, colsample:0.751667975835, gamma:13.0134150712 ,objective:1 \n",
      "\n",
      "loss:0.425311280454 , subsample:0.0645388087658, colsample:0.747962181579, gamma:2.47947835961 ,objective:1 \n",
      "\n",
      "loss:0.434471071332 , subsample:0.0256043764378, colsample:0.702149094117, gamma:1.71516240774 ,objective:1 \n",
      "\n",
      "loss:0.425421920127 , subsample:0.0629887897836, colsample:0.729299373267, gamma:4.27391753974 ,objective:1 \n",
      "\n",
      "loss:0.425654984053 , subsample:0.0641640644514, colsample:0.714154606234, gamma:1.29025071469 ,objective:1 \n",
      "\n",
      "loss:0.445044671112 , subsample:0.0265749577667, colsample:0.620309436693, gamma:35.673344453 ,objective:1 \n",
      "\n",
      "loss:0.428618337315 , subsample:0.0578358916952, colsample:0.648727144918, gamma:8.03651316227 ,objective:1 \n",
      "\n",
      "loss:0.428539405247 , subsample:0.0882564485055, colsample:0.725508619809, gamma:21.0008219105 ,objective:1 \n",
      "\n",
      "loss:0.429928700628 , subsample:0.0498350844165, colsample:0.583819996501, gamma:7.01239041472 ,objective:1 \n",
      "\n",
      "loss:0.42728177316 , subsample:0.0646359148418, colsample:0.660917860561, gamma:7.12440441383 ,objective:1 \n",
      "\n",
      "loss:0.461480884878 , subsample:0.0104297948651, colsample:0.548410568811, gamma:39.2453632127 ,objective:1 \n",
      "\n",
      "loss:0.444663541026 , subsample:0.0263567262243, colsample:0.395956205457, gamma:23.317604902 ,objective:1 \n",
      "\n",
      "loss:0.42361359868 , subsample:0.0867126519427, colsample:0.620913624925, gamma:1.85324297071 ,objective:1 \n",
      "\n",
      "loss:0.431909930842 , subsample:0.087993599111, colsample:0.627544838009, gamma:34.4130313388 ,objective:1 \n",
      "\n",
      "loss:0.438161684235 , subsample:0.0509031038902, colsample:0.678446889632, gamma:47.9406064274 ,objective:1 \n",
      "\n",
      "loss:0.439987677917 , subsample:0.0708292908055, colsample:0.519415041172, gamma:94.1751730395 ,objective:1 \n",
      "\n",
      "loss:0.42944590396 , subsample:0.0852183868423, colsample:0.43835553224, gamma:12.5795040274 ,objective:1 \n",
      "\n",
      "loss:0.4273166108 , subsample:0.12295478296, colsample:0.55972715275, gamma:25.2494104429 ,objective:1 \n",
      "\n",
      "loss:0.443517843989 , subsample:0.148581150805, colsample:0.610269819856, gamma:15.9993766494 ,objective:0 \n",
      "\n",
      "loss:0.436862245452 , subsample:0.0987450793925, colsample:0.355795717174, gamma:58.7448649389 ,objective:1 \n",
      "\n",
      "loss:0.451145244548 , subsample:0.0372536911017, colsample:0.464505624903, gamma:88.0452797787 ,objective:1 \n",
      "\n",
      "loss:0.437340102912 , subsample:0.109015800223, colsample:0.746960951839, gamma:30.9378260148 ,objective:0 \n",
      "\n",
      "loss:0.433484405034 , subsample:0.0694581854306, colsample:0.770562576924, gamma:47.9137737371 ,objective:1 \n",
      "\n",
      "loss:0.44892906511 , subsample:0.0484796124297, colsample:0.694470358072, gamma:19.7164839887 ,objective:0 \n",
      "\n",
      "loss:0.424610972947 , subsample:0.0945980990125, colsample:0.403359443513, gamma:1.8212060034 ,objective:1 \n",
      "\n",
      "loss:0.4423780655 , subsample:0.120529271262, colsample:0.277691556263, gamma:69.0869485021 ,objective:1 \n",
      "\n",
      "loss:0.520287482851 , subsample:0.134117932317, colsample:0.207502828628, gamma:99.6020038246 ,objective:0 \n",
      "\n",
      "loss:0.431829289889 , subsample:0.105733970085, colsample:0.352760245752, gamma:25.6128806816 ,objective:1 \n",
      "\n",
      "loss:0.459696431968 , subsample:0.0962066174899, colsample:0.403186196037, gamma:10.5437353352 ,objective:0 \n",
      "\n",
      "loss:0.437329694779 , subsample:0.0915575452401, colsample:0.321036259928, gamma:32.1757451625 ,objective:1 \n",
      "\n",
      "loss:0.434723434639 , subsample:0.0826287669264, colsample:0.499914613549, gamma:43.0516243177 ,objective:1 \n",
      "\n",
      "loss:0.448987794884 , subsample:0.101848715198, colsample:0.166600031143, gamma:27.1271820167 ,objective:1 \n",
      "\n",
      "loss:0.499162454309 , subsample:0.116163869662, colsample:0.259290265777, gamma:76.4220684171 ,objective:0 \n",
      "\n",
      "loss:0.428091179185 , subsample:0.129915595629, colsample:0.413727373286, gamma:19.0730412717 ,objective:1 \n",
      "\n",
      "loss:0.422801549007 , subsample:0.119398299563, colsample:0.367823795823, gamma:4.43745570732 ,objective:1 \n",
      "\n",
      "loss:0.507222753253 , subsample:0.116947204033, colsample:0.216415697061, gamma:38.2549929465 ,objective:0 \n",
      "\n",
      "loss:0.426283050743 , subsample:0.149967898737, colsample:0.317512929094, gamma:12.7330129058 ,objective:1 \n",
      "\n",
      "loss:0.42278735049 , subsample:0.133448450345, colsample:0.367127373623, gamma:5.18910389561 ,objective:1 \n",
      "\n"
     ]
    }
   ],
   "source": [
    "best = fmin(hyperSearchGBM,space,tpe.suggest,60)"
   ]
  },
  {
   "cell_type": "code",
   "execution_count": null,
   "metadata": {
    "collapsed": true
   },
   "outputs": [],
   "source": []
  },
  {
   "cell_type": "code",
   "execution_count": null,
   "metadata": {
    "collapsed": true
   },
   "outputs": [],
   "source": []
  },
  {
   "cell_type": "code",
   "execution_count": null,
   "metadata": {
    "collapsed": true
   },
   "outputs": [],
   "source": []
  },
  {
   "cell_type": "code",
   "execution_count": null,
   "metadata": {
    "collapsed": true
   },
   "outputs": [],
   "source": []
  },
  {
   "cell_type": "code",
   "execution_count": null,
   "metadata": {
    "collapsed": true
   },
   "outputs": [],
   "source": []
  },
  {
   "cell_type": "code",
   "execution_count": null,
   "metadata": {
    "collapsed": true
   },
   "outputs": [],
   "source": []
  }
 ],
 "metadata": {
  "kernelspec": {
   "display_name": "Python 2",
   "language": "python",
   "name": "python2"
  },
  "language_info": {
   "codemirror_mode": {
    "name": "ipython",
    "version": 2
   },
   "file_extension": ".py",
   "mimetype": "text/x-python",
   "name": "python",
   "nbconvert_exporter": "python",
   "pygments_lexer": "ipython2",
   "version": "2.7.13"
  }
 },
 "nbformat": 4,
 "nbformat_minor": 2
}
